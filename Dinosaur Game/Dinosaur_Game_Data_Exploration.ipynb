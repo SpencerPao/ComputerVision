{
 "cells": [
  {
   "cell_type": "code",
   "execution_count": 1,
   "id": "f9aa4645",
   "metadata": {},
   "outputs": [],
   "source": [
    "import numpy as np\n",
    "import win32gui\n",
    "import win32ui\n",
    "import win32con\n",
    "import cv2 as cv\n",
    "import numpy as np\n",
    "import os\n",
    "from time import time\n",
    "import pygetwindow\n",
    "from PIL import Image\n",
    "import pyautogui"
   ]
  },
  {
   "cell_type": "markdown",
   "id": "0608ae44",
   "metadata": {},
   "source": [
    "# Getting the List of Availble Windows"
   ]
  },
  {
   "cell_type": "code",
   "execution_count": null,
   "id": "bcebbaf8",
   "metadata": {},
   "outputs": [],
   "source": [
    "# Getting Window names\n",
    "def winEnumHandler(hwnd, ctx):\n",
    "    if win32gui.IsWindowVisible(hwnd):\n",
    "        print(hex(hwnd), win32gui.GetWindowText(hwnd))\n",
    "\n",
    "win32gui.EnumWindows(winEnumHandler, None)"
   ]
  },
  {
   "cell_type": "code",
   "execution_count": null,
   "id": "a428380e",
   "metadata": {},
   "outputs": [],
   "source": [
    "# def callback(hwnd, extra):\n",
    "#     rect = win32gui.GetWindowRect(hwnd)\n",
    "#     x = rect[0]\n",
    "#     y = rect[1]\n",
    "#     w = rect[2] - x\n",
    "#     h = rect[3] - y\n",
    "#     print(\"Window %s:\" % win32gui.GetWindowText(hwnd))\n",
    "#     print(\"\\tLocation: (%d, %d)\" % (x, y))\n",
    "#     print(\"\\t    Size: (%d, %d)\" % (w, h))\n",
    "    \n",
    "# win32gui.EnumWindows(callback, None)\n",
    "\n",
    "# x2 = x + w # 1529 + 155-\n",
    "# y2 = y + h # -7 + 838\n",
    "# Drawing Rectangle.\n",
    "x1 = 350 # Origin at top left of screen\n",
    "y1 = 400 # # Origin at top left of screen\n",
    "x2 = 1550\n",
    "y2 = 800 \n",
    "path = 'test.png'\n",
    "pyautogui.screenshot(path)\n",
    "im = Image.open(path)\n",
    "im  = im.crop((x1,y1,x2,y2))\n",
    "im.save(path)\n",
    "im.show(path)"
   ]
  },
  {
   "cell_type": "markdown",
   "id": "96e2c2ad",
   "metadata": {},
   "source": [
    "# Window Capture Class"
   ]
  },
  {
   "cell_type": "code",
   "execution_count": null,
   "id": "a3c4231e",
   "metadata": {},
   "outputs": [],
   "source": [
    "import numpy as np\n",
    "import win32gui\n",
    "import win32ui\n",
    "import win32con\n",
    "\n",
    "\n",
    "class WindowCapture:\n",
    "\n",
    "    # properties\n",
    "    w = 0\n",
    "    h = 0\n",
    "    hwnd = None\n",
    "    cropped_x = 10000\n",
    "    cropped_y = 10000\n",
    "    offset_x = 0\n",
    "    offset_y = 0\n",
    "\n",
    "    # constructor\n",
    "    def __init__(self, window_name):\n",
    "        # find the handle for the window we want to capture\n",
    "        self.hwnd = win32gui.FindWindow(None, window_name)\n",
    "        if not self.hwnd:\n",
    "            raise Exception('Window not found: {}'.format(window_name))\n",
    "\n",
    "        # get the window size\n",
    "        window_rect = win32gui.GetWindowRect(self.hwnd)  # Left, Top, Right, Bottom\n",
    "        self.w = window_rect[2] - window_rect[0]  # Width = Right - Left\n",
    "        self.h = window_rect[3] - window_rect[1]  # Height = Bottom - Top\n",
    "\n",
    "        # account for the window border and titlebar and cut them off\n",
    "        border_pixels = 100\n",
    "        titlebar_pixels = 450  # Manages the y axis crop.\n",
    "        self.w = self.w - border_pixels\n",
    "        self.h = self.h - titlebar_pixels - border_pixels\n",
    "        self.cropped_x = border_pixels\n",
    "        self.cropped_y = titlebar_pixels\n",
    "\n",
    "        # set the cropped coordinates offset so we can translate screenshot\n",
    "        # images into actual screen positions\n",
    "        self.offset_x = window_rect[0] + self.cropped_x\n",
    "        self.offset_y = window_rect[1] + self.cropped_y\n",
    "\n",
    "    def get_screenshot(self):\n",
    "        # get the window image data\n",
    "        # wDC = win32gui.GetWindowDC(self.hwnd)\n",
    "        hdesktop = win32gui.GetDesktopWindow()\n",
    "        hwndDC = win32gui.GetWindowDC(hdesktop)\n",
    "        dcObj = win32ui.CreateDCFromHandle(hwndDC)\n",
    "        cDC = dcObj.CreateCompatibleDC()\n",
    "        dataBitMap = win32ui.CreateBitmap()\n",
    "        dataBitMap.CreateCompatibleBitmap(dcObj, self.w, self.h)\n",
    "        cDC.SelectObject(dataBitMap)\n",
    "        cDC.BitBlt((0, 0), (self.w, self.h), dcObj,\n",
    "                   (self.cropped_x, self.cropped_y), win32con.SRCCOPY)\n",
    "\n",
    "        # convert the raw data into a format opencv can read\n",
    "        #dataBitMap.SaveBitmapFile(cDC, 'debug.bmp')\n",
    "        signedIntsArray = dataBitMap.GetBitmapBits(True)\n",
    "        img = np.fromstring(signedIntsArray, dtype='uint8')\n",
    "        img.shape = (self.h, self.w, 4)\n",
    "\n",
    "        # free resources\n",
    "        dcObj.DeleteDC()\n",
    "        cDC.DeleteDC()\n",
    "        win32gui.ReleaseDC(self.hwnd, hwndDC)\n",
    "        win32gui.DeleteObject(dataBitMap.GetHandle())\n",
    "\n",
    "        # drop the alpha channel, or cv.matchTemplate() will throw an error like:\n",
    "        #   error: (-215:Assertion failed) (depth == CV_8U || depth == CV_32F) && type == _templ.type()\n",
    "        #   && _img.dims() <= 2 in function 'cv::matchTemplate'\n",
    "        img = img[..., :3]\n",
    "\n",
    "        # make image C_CONTIGUOUS to avoid errors that look like:\n",
    "        #   File ... in draw_rectangles\n",
    "        #   TypeError: an integer is required (got type tuple)\n",
    "        # see the discussion here:\n",
    "        # https://github.com/opencv/opencv/issues/14866#issuecomment-580207109\n",
    "        img = np.ascontiguousarray(img)\n",
    "\n",
    "        return img\n",
    "\n",
    "    # find the name of the window you're interested in.\n",
    "    # once you have it, update window_capture()\n",
    "    # https://stackoverflow.com/questions/55547940/how-to-get-a-list-of-the-name-of-every-open-window\n",
    "    def list_window_names(self):\n",
    "        def winEnumHandler(hwnd, ctx):\n",
    "            if win32gui.IsWindowVisible(hwnd):\n",
    "                print(hex(hwnd), win32gui.GetWindowText(hwnd))\n",
    "        win32gui.EnumWindows(winEnumHandler, None)\n",
    "\n",
    "    # translate a pixel position on a screenshot image to a pixel position on the screen.\n",
    "    # pos = (x, y)\n",
    "    # WARNING: if you move the window being captured after execution is started, this will\n",
    "    # return incorrect coordinates, because the window position is only calculated in\n",
    "    # the __init__ constructor.\n",
    "    def get_screen_position(self, pos):\n",
    "        return (pos[0] + self.offset_x, pos[1] + self.offset_y)\n"
   ]
  },
  {
   "cell_type": "markdown",
   "id": "9a3a6d35",
   "metadata": {},
   "source": [
    "# Main Class"
   ]
  },
  {
   "cell_type": "code",
   "execution_count": null,
   "id": "46f4ffe2",
   "metadata": {},
   "outputs": [],
   "source": [
    "import cv2 as cv\n",
    "import win32con as con\n",
    "import numpy as np\n",
    "import os\n",
    "from time import time\n",
    "from windowcapture import WindowCapture\n",
    "from utils.getkeys import keys\n",
    "# Change the working directory to the folder this script is in.\n",
    "# Doing this because I'll be putting the files from each video in their own folder on GitHub\n",
    "os.chdir(os.path.dirname(os.path.abspath(__file__)))\n",
    "\n",
    "file_name = \"Data/screenshots.npy\"\n",
    "file_name2 = \"Data/command_keys.npy\"\n",
    "\n",
    "\n",
    "def get_data():\n",
    "    '''Function obtained from ClarityCoders:\n",
    "    https://github.com/ClarityCoders/Fall-Guys-AI/blob/master/CreateData.py'''\n",
    "    if os.path.isfile(file_name):\n",
    "        print('File exists, loading previous data!')\n",
    "        image_data = list(np.load(file_name, allow_pickle=True))\n",
    "        targets = list(np.load(file_name2, allow_pickle=True))\n",
    "    else:\n",
    "        print('File does not exist, starting fresh!')\n",
    "        image_data = []\n",
    "        targets = []\n",
    "    return image_data, targets\n",
    "\n",
    "\n",
    "def save_data(image_data, targets):\n",
    "    '''Function obtained from ClarityCoders:\n",
    "    https://github.com/ClarityCoders/Fall-Guys-AI/blob/master/CreateData.py'''\n",
    "    np.save(file_name, image_data)\n",
    "    np.save(file_name2, targets)\n",
    "\n",
    "\n",
    "def main():\n",
    "    '''Main function to execute.'''\n",
    "    image_data, target = get_data()\n",
    "    # initialize the WindowCapture class\n",
    "    wincap = WindowCapture('T-Rex Game – Google Dino Run - Google Chrome')\n",
    "    while True:\n",
    "        print(\"Press 'Space' to start -- else 'q' to quit program\")\n",
    "        key = keys()\n",
    "        if key == 'Q':  # quit\n",
    "            cv.destroyAllWindows()\n",
    "            break\n",
    "        if key == 32:\n",
    "            print(\"Starting Program\")\n",
    "            break\n",
    "        elif key == con.VK_UP:\n",
    "            print(\"You pressed the up arrow key...\")\n",
    "        elif key == con.VK_DOWN:\n",
    "            print(\"You pressed the down arrow key...\")\n",
    "\n",
    "    loop_time = time()\n",
    "    while(True):\n",
    "        # get an updated image of the game\n",
    "        screenshot = wincap.get_screenshot()\n",
    "        #cv.imshow('Computer Vision', screenshot)\n",
    "        # Storing the images.\n",
    "        # debug the loop rate\n",
    "        print('FPS {}'.format(1 / (time() - loop_time)))\n",
    "        loop_time = time()\n",
    "        key = keys()\n",
    "        if key == \"Q\":\n",
    "            cv.destroyAllWindows()\n",
    "            break\n",
    "        if key == con.VK_UP or key == 32:\n",
    "            print(\"Up Arrow key or Space bar initiated\")\n",
    "            #screenshot = cv.resize(screenshot, (224, 224))\n",
    "            image_data.append(screenshot)\n",
    "            target.append(key)\n",
    "        elif key == con.VK_DOWN:\n",
    "            print(\"Down Arrow Key initiated\")\n",
    "            #screenshot = cv.resize(screenshot, (224, 224))\n",
    "            image_data.append(screenshot)\n",
    "            target.append(key)\n",
    "    print('Done.')\n",
    "    save_data(image_data, target)\n",
    "    print(\"Finished saving image data with associated target values.\")\n",
    "\n",
    "\n",
    "if __name__ == '__main__':\n",
    "    main()\n"
   ]
  },
  {
   "cell_type": "code",
   "execution_count": 29,
   "id": "85d8f92f",
   "metadata": {},
   "outputs": [],
   "source": [
    "from typing import List\n",
    "def npy_2_greyscale(data: np.ndarray) -> List[int]:\n",
    "    \"\"\"Gray scales screen shot images from BGR->Gray\"\"\"\n",
    "    gray = []\n",
    "    for img in data:\n",
    "        gray.append(cv.cvtColor(img, cv.COLOR_BGR2GRAY))\n",
    "    return gray"
   ]
  },
  {
   "cell_type": "markdown",
   "id": "a38d0a42",
   "metadata": {},
   "source": [
    "# Let's take a look at an example image from the numpy array screenshot."
   ]
  },
  {
   "cell_type": "code",
   "execution_count": 56,
   "id": "6cfe935c",
   "metadata": {},
   "outputs": [
    {
     "data": {
      "text/plain": [
       "(46,)"
      ]
     },
     "execution_count": 56,
     "metadata": {},
     "output_type": "execute_result"
    }
   ],
   "source": [
    "target_address = 'window_capture/Data/command_keys.npy'\n",
    "targets = np.load(target_address)\n",
    "targets.shape"
   ]
  },
  {
   "cell_type": "code",
   "execution_count": 57,
   "id": "ba1aeef6",
   "metadata": {},
   "outputs": [
    {
     "data": {
      "text/plain": [
       "array([38, 38, 38, 38, 38, 38, 40, 40, 40, 40, 40, 40, 40, 40, 40, 38, 38,\n",
       "       38, 40, 40, 40, 40, 40, 40, 40, 40, 38, 38, 38, 38, 38, 38, 40, 40,\n",
       "       40, 40, 40, 40, 40, 40, 40, 40, 40, 40, 40, 40])"
      ]
     },
     "execution_count": 57,
     "metadata": {},
     "output_type": "execute_result"
    }
   ],
   "source": [
    "targets"
   ]
  },
  {
   "cell_type": "code",
   "execution_count": 58,
   "id": "5d1ab81f",
   "metadata": {},
   "outputs": [
    {
     "data": {
      "text/plain": [
       "(395409600,)"
      ]
     },
     "execution_count": 58,
     "metadata": {},
     "output_type": "execute_result"
    }
   ],
   "source": [
    "screenshot_address = 'window_capture/Data/screenshots.npy'\n",
    "screenshot_data = np.load(screenshot_address)\n",
    "screenshot_data.shape"
   ]
  },
  {
   "cell_type": "code",
   "execution_count": 59,
   "id": "2cbf2c35",
   "metadata": {},
   "outputs": [
    {
     "data": {
      "text/plain": [
       "()"
      ]
     },
     "execution_count": 59,
     "metadata": {},
     "output_type": "execute_result"
    }
   ],
   "source": [
    "one_pic = screenshot_data[10]\n",
    "one_pic.shape # Playing with the shapes"
   ]
  },
  {
   "cell_type": "code",
   "execution_count": 6,
   "id": "321c5bca",
   "metadata": {},
   "outputs": [],
   "source": [
    "import matplotlib.pyplot as plt\n",
    "plt.rcParams['figure.figsize'] = [25, 10]"
   ]
  },
  {
   "cell_type": "code",
   "execution_count": 15,
   "id": "8d9e4fc2",
   "metadata": {},
   "outputs": [
    {
     "data": {
      "image/png": "[encoded data removed]",
      "text/plain": [
       "<Figure size 1800x720 with 1 Axes>"
      ]
     },
     "metadata": {
      "needs_background": "light"
     },
     "output_type": "display_data"
    }
   ],
   "source": [
    "one_pic = screenshot_data[300] # looking at individual pictures.\n",
    "plt.imshow(one_pic, interpolation='nearest')\n",
    "plt.show()"
   ]
  },
  {
   "cell_type": "code",
   "execution_count": null,
   "id": "4d49a57f",
   "metadata": {},
   "outputs": [],
   "source": []
  },
  {
   "cell_type": "code",
   "execution_count": null,
   "id": "39848c71",
   "metadata": {},
   "outputs": [],
   "source": []
  },
  {
   "cell_type": "code",
   "execution_count": 24,
   "id": "2cdca154",
   "metadata": {},
   "outputs": [
    {
     "data": {
      "text/plain": [
       "(459, 288, 1450, 3)"
      ]
     },
     "execution_count": 24,
     "metadata": {},
     "output_type": "execute_result"
    }
   ],
   "source": [
    "screenshot_data.shape"
   ]
  },
  {
   "cell_type": "code",
   "execution_count": 27,
   "id": "9f83824b",
   "metadata": {},
   "outputs": [
    {
     "data": {
      "text/plain": [
       "(459, 288, 1450, 3)"
      ]
     },
     "execution_count": 27,
     "metadata": {},
     "output_type": "execute_result"
    }
   ],
   "source": [
    "screenshot_data[:].shape"
   ]
  },
  {
   "cell_type": "code",
   "execution_count": 48,
   "id": "769c84e6",
   "metadata": {},
   "outputs": [],
   "source": [
    "image_crops = screenshot_data[:,0:one_pic.shape[0],250:700]"
   ]
  },
  {
   "cell_type": "code",
   "execution_count": 49,
   "id": "f7bf55df",
   "metadata": {},
   "outputs": [
    {
     "data": {
      "text/plain": [
       "(459, 288, 450, 3)"
      ]
     },
     "execution_count": 49,
     "metadata": {},
     "output_type": "execute_result"
    }
   ],
   "source": [
    "image_crops.shape"
   ]
  },
  {
   "cell_type": "code",
   "execution_count": 54,
   "id": "4df720fe",
   "metadata": {},
   "outputs": [
    {
     "data": {
      "image/png": "[encoded data removed]",
      "text/plain": [
       "<Figure size 1800x720 with 1 Axes>"
      ]
     },
     "metadata": {
      "needs_background": "light"
     },
     "output_type": "display_data"
    }
   ],
   "source": [
    "# Crop image\n",
    "crop_pic = image_crops[315]\n",
    "plt.imshow(crop_pic, interpolation='nearest')\n",
    "plt.show()"
   ]
  },
  {
   "cell_type": "code",
   "execution_count": 55,
   "id": "9da9f158",
   "metadata": {},
   "outputs": [
    {
     "data": {
      "text/plain": [
       "(288, 450, 3)"
      ]
     },
     "execution_count": 55,
     "metadata": {},
     "output_type": "execute_result"
    }
   ],
   "source": [
    "image_crops[315].shape"
   ]
  },
  {
   "cell_type": "code",
   "execution_count": 21,
   "id": "cd0bb889",
   "metadata": {},
   "outputs": [
    {
     "data": {
      "text/plain": [
       "(array([32, 38, 40]), array([  25, 3521,  245], dtype=int64))"
      ]
     },
     "execution_count": 21,
     "metadata": {},
     "output_type": "execute_result"
    }
   ],
   "source": [
    "np.unique(targets, return_counts=True)"
   ]
  }
 ],
 "metadata": {
  "kernelspec": {
   "display_name": "Python 3",
   "language": "python",
   "name": "python3"
  },
  "language_info": {
   "codemirror_mode": {
    "name": "ipython",
    "version": 3
   },
   "file_extension": ".py",
   "mimetype": "text/x-python",
   "name": "python",
   "nbconvert_exporter": "python",
   "pygments_lexer": "ipython3",
   "version": "3.6.13"
  }
 },
 "nbformat": 4,
 "nbformat_minor": 5
}
