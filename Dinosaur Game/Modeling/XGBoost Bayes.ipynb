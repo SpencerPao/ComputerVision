{
 "cells": [
  {
   "cell_type": "code",
   "execution_count": 1,
   "id": "fd38e3c9",
   "metadata": {},
   "outputs": [],
   "source": [
    "import numpy as np\n",
    "from xgboost import XGBClassifier\n",
    "from bayes_opt import BayesianOptimization\n",
    "from sklearn.model_selection import train_test_split\n",
    "import xgboost as xgb\n",
    "from pathlib import Path\n",
    "import os"
   ]
  },
  {
   "cell_type": "code",
   "execution_count": 2,
   "id": "2c97a16b",
   "metadata": {},
   "outputs": [],
   "source": [
    "def xgb_classifier(n_estimators, max_depth, reg_alpha, reg_lambda, min_child_weight, num_boost_round, gamma):\n",
    "    params = {\"booster\": 'gbtree',\n",
    "              \"objective\": 'multi:softmax',\n",
    "              \"eval_metric\": \"auc\",\n",
    "#               \"is_unbalance\": True,\n",
    "              \"n_estimators\": int(n_estimators),\n",
    "              \"max_depth\": int(max_depth),\n",
    "              \"reg_alpha\": reg_alpha,\n",
    "              \"reg_lambda\": reg_lambda,\n",
    "              \"gamma\": gamma,\n",
    "              \"num_class\": 3, \n",
    "              \"min_child_weight\": int(min_child_weight),\n",
    "              \"learning_rate\": 0.01,\n",
    "              \"subsample_freq\": 5,\n",
    "              \"verbosity\": 0,\n",
    "              \"num_boost_round\": int(num_boost_round)}\n",
    "    cv_result = xgb.cv(params,\n",
    "                       train_data,\n",
    "                       1000,\n",
    "                       early_stopping_rounds=100,\n",
    "                       stratified=True,\n",
    "                       nfold=3)\n",
    "    return cv_result['test-auc-mean'].iloc[-1]\n"
   ]
  },
  {
   "cell_type": "code",
   "execution_count": 3,
   "id": "9ddb5c47",
   "metadata": {},
   "outputs": [],
   "source": [
    "target_address = os.path.join(Path(os.getcwd()).parent,'Window_capture\\\\Data\\\\command_keys.npy')\n",
    "screenshot_address = os.path.join(Path(os.getcwd()).parent,'Window_capture\\\\Data\\\\screenshots.npy')\n",
    "\n",
    "labels = np.load(target_address)\n",
    "images = np.load(screenshot_address, allow_pickle = True)"
   ]
  },
  {
   "cell_type": "code",
   "execution_count": 4,
   "id": "38f8ec14",
   "metadata": {},
   "outputs": [
    {
     "name": "stdout",
     "output_type": "stream",
     "text": [
      "Dimensions for Targets:  (array([0, 1, 2]), array([366,  35,  99], dtype=int64)) Dimensions for Images (500, 129600)\n"
     ]
    }
   ],
   "source": [
    "labels = labels[1500:2000]\n",
    "images = images[1500:2000,:]\n",
    "print(\"Dimensions for Targets: \", np.unique(labels, return_counts=True), \"Dimensions for Images\", images.shape)"
   ]
  },
  {
   "cell_type": "code",
   "execution_count": 5,
   "id": "a0f03ff1",
   "metadata": {},
   "outputs": [],
   "source": [
    "# X_train, X_test, y_train, y_test = make_dataset(10000, z=100)\n",
    "X_train, X_test, y_train, y_test = train_test_split(images, labels, test_size = 0.25)\n",
    "\n",
    "train_data = xgb.DMatrix(X_train, y_train)"
   ]
  },
  {
   "cell_type": "code",
   "execution_count": 6,
   "id": "0afa3386",
   "metadata": {},
   "outputs": [
    {
     "name": "stdout",
     "output_type": "stream",
     "text": [
      "|   iter    |  target   |   gamma   | max_depth | min_ch... | n_esti... | num_bo... | reg_alpha | reg_la... |\n",
      "-------------------------------------------------------------------------------------------------------------\n",
      "| \u001b[0m 1       \u001b[0m | \u001b[0m 0.9854  \u001b[0m | \u001b[0m 7.345   \u001b[0m | \u001b[0m 24.7    \u001b[0m | \u001b[0m 1.83    \u001b[0m | \u001b[0m 63.53   \u001b[0m | \u001b[0m 405.6   \u001b[0m | \u001b[0m 0.003643\u001b[0m | \u001b[0m 0.01105 \u001b[0m |\n",
      "| \u001b[0m 2       \u001b[0m | \u001b[0m 0.9854  \u001b[0m | \u001b[0m 6.718   \u001b[0m | \u001b[0m 19.69   \u001b[0m | \u001b[0m 6.454   \u001b[0m | \u001b[0m 64.04   \u001b[0m | \u001b[0m 958.8   \u001b[0m | \u001b[0m 0.0471  \u001b[0m | \u001b[0m 0.05868 \u001b[0m |\n",
      "| \u001b[95m 3       \u001b[0m | \u001b[95m 0.9859  \u001b[0m | \u001b[95m 1.416   \u001b[0m | \u001b[95m 5.716   \u001b[0m | \u001b[95m 4.78    \u001b[0m | \u001b[95m 13.84   \u001b[0m | \u001b[95m 103.3   \u001b[0m | \u001b[95m 0.08341 \u001b[0m | \u001b[95m 0.0634  \u001b[0m |\n",
      "| \u001b[95m 4       \u001b[0m | \u001b[95m 0.9868  \u001b[0m | \u001b[95m 1.053   \u001b[0m | \u001b[95m 8.374   \u001b[0m | \u001b[95m 3.059   \u001b[0m | \u001b[95m 15.56   \u001b[0m | \u001b[95m 107.3   \u001b[0m | \u001b[95m 0.008024\u001b[0m | \u001b[95m 0.09695 \u001b[0m |\n",
      "| \u001b[95m 5       \u001b[0m | \u001b[95m 0.9881  \u001b[0m | \u001b[95m 1.842   \u001b[0m | \u001b[95m 9.545   \u001b[0m | \u001b[95m 1.99    \u001b[0m | \u001b[95m 12.63   \u001b[0m | \u001b[95m 110.3   \u001b[0m | \u001b[95m 0.04294 \u001b[0m | \u001b[95m 0.08495 \u001b[0m |\n",
      "| \u001b[0m 6       \u001b[0m | \u001b[0m 0.9854  \u001b[0m | \u001b[0m 8.06    \u001b[0m | \u001b[0m 9.972   \u001b[0m | \u001b[0m 4.816   \u001b[0m | \u001b[0m 10.34   \u001b[0m | \u001b[0m 113.6   \u001b[0m | \u001b[0m 0.02192 \u001b[0m | \u001b[0m 0.04897 \u001b[0m |\n",
      "| \u001b[0m 7       \u001b[0m | \u001b[0m 0.9854  \u001b[0m | \u001b[0m 6.363   \u001b[0m | \u001b[0m 12.03   \u001b[0m | \u001b[0m 2.259   \u001b[0m | \u001b[0m 10.98   \u001b[0m | \u001b[0m 106.8   \u001b[0m | \u001b[0m 0.0959  \u001b[0m | \u001b[0m 0.01408 \u001b[0m |\n",
      "| \u001b[0m 8       \u001b[0m | \u001b[0m 0.9854  \u001b[0m | \u001b[0m 5.254   \u001b[0m | \u001b[0m 10.8    \u001b[0m | \u001b[0m 3.235   \u001b[0m | \u001b[0m 24.82   \u001b[0m | \u001b[0m 109.2   \u001b[0m | \u001b[0m 0.08728 \u001b[0m | \u001b[0m 0.06133 \u001b[0m |\n",
      "| \u001b[0m 9       \u001b[0m | \u001b[0m 0.988   \u001b[0m | \u001b[0m 2.024   \u001b[0m | \u001b[0m 12.18   \u001b[0m | \u001b[0m 1.154   \u001b[0m | \u001b[0m 13.64   \u001b[0m | \u001b[0m 106.9   \u001b[0m | \u001b[0m 0.06563 \u001b[0m | \u001b[0m 0.09725 \u001b[0m |\n",
      "| \u001b[0m 10      \u001b[0m | \u001b[0m 0.9854  \u001b[0m | \u001b[0m 5.223   \u001b[0m | \u001b[0m 14.37   \u001b[0m | \u001b[0m 4.165   \u001b[0m | \u001b[0m 16.55   \u001b[0m | \u001b[0m 105.8   \u001b[0m | \u001b[0m 0.08022 \u001b[0m | \u001b[0m 0.07118 \u001b[0m |\n",
      "| \u001b[0m 11      \u001b[0m | \u001b[0m 0.9867  \u001b[0m | \u001b[0m 0.05085 \u001b[0m | \u001b[0m 9.422   \u001b[0m | \u001b[0m 1.642   \u001b[0m | \u001b[0m 11.64   \u001b[0m | \u001b[0m 113.3   \u001b[0m | \u001b[0m 0.07398 \u001b[0m | \u001b[0m 0.01191 \u001b[0m |\n",
      "| \u001b[0m 12      \u001b[0m | \u001b[0m 0.9856  \u001b[0m | \u001b[0m 1.08    \u001b[0m | \u001b[0m 5.506   \u001b[0m | \u001b[0m 7.776   \u001b[0m | \u001b[0m 11.2    \u001b[0m | \u001b[0m 113.6   \u001b[0m | \u001b[0m 0.01006 \u001b[0m | \u001b[0m 0.07084 \u001b[0m |\n",
      "| \u001b[0m 13      \u001b[0m | \u001b[0m 0.9858  \u001b[0m | \u001b[0m 1.038   \u001b[0m | \u001b[0m 11.76   \u001b[0m | \u001b[0m 4.033   \u001b[0m | \u001b[0m 17.92   \u001b[0m | \u001b[0m 116.3   \u001b[0m | \u001b[0m 0.09359 \u001b[0m | \u001b[0m 0.05702 \u001b[0m |\n",
      "| \u001b[0m 14      \u001b[0m | \u001b[0m 0.9856  \u001b[0m | \u001b[0m 0.5126  \u001b[0m | \u001b[0m 32.92   \u001b[0m | \u001b[0m 9.326   \u001b[0m | \u001b[0m 58.48   \u001b[0m | \u001b[0m 639.2   \u001b[0m | \u001b[0m 0.08574 \u001b[0m | \u001b[0m 0.07128 \u001b[0m |\n",
      "| \u001b[95m 15      \u001b[0m | \u001b[95m 0.9881  \u001b[0m | \u001b[95m 3.589   \u001b[0m | \u001b[95m 6.575   \u001b[0m | \u001b[95m 1.393   \u001b[0m | \u001b[95m 11.56   \u001b[0m | \u001b[95m 114.1   \u001b[0m | \u001b[95m 0.07833 \u001b[0m | \u001b[95m 0.09867 \u001b[0m |\n",
      "| \u001b[0m 16      \u001b[0m | \u001b[0m 0.9854  \u001b[0m | \u001b[0m 7.17    \u001b[0m | \u001b[0m 20.23   \u001b[0m | \u001b[0m 7.92    \u001b[0m | \u001b[0m 39.26   \u001b[0m | \u001b[0m 842.3   \u001b[0m | \u001b[0m 0.05547 \u001b[0m | \u001b[0m 0.0094  \u001b[0m |\n",
      "| \u001b[0m 17      \u001b[0m | \u001b[0m 0.9854  \u001b[0m | \u001b[0m 6.697   \u001b[0m | \u001b[0m 5.673   \u001b[0m | \u001b[0m 1.967   \u001b[0m | \u001b[0m 11.06   \u001b[0m | \u001b[0m 109.4   \u001b[0m | \u001b[0m 0.04813 \u001b[0m | \u001b[0m 0.0144  \u001b[0m |\n",
      "=============================================================================================================\n"
     ]
    }
   ],
   "source": [
    "xgb_bo = BayesianOptimization(xgb_classifier, {\"n_estimators\": (10, 100),\n",
    "                                              'max_depth': (5, 40),\n",
    "                                              'reg_alpha': (0.0, 0.1),\n",
    "                                              'reg_lambda': (0.0, 0.1),\n",
    "                                              'min_child_weight': (1, 10),\n",
    "                                              'num_boost_round': (100, 1000),\n",
    "                                              \"gamma\": (0, 10)\n",
    "                                              })\n",
    "xgb_bo.maximize(n_iter=15, init_points=2)"
   ]
  },
  {
   "cell_type": "code",
   "execution_count": 7,
   "id": "aec29b6d",
   "metadata": {},
   "outputs": [
    {
     "name": "stdout",
     "output_type": "stream",
     "text": [
      "{'gamma': 3.588573520537012, 'max_depth': 6.575482672783876, 'min_child_weight': 1.392918508283413, 'n_estimators': 11.563881716355775, 'num_boost_round': 114.12223157924846, 'reg_alpha': 0.07833114170487387, 'reg_lambda': 0.09867149140295799}\n"
     ]
    }
   ],
   "source": [
    "#Extracting the best parameters\n",
    "params = xgb_bo.max['params']\n",
    "print(params)\n",
    "\n"
   ]
  },
  {
   "cell_type": "code",
   "execution_count": 9,
   "id": "106a9ed3",
   "metadata": {},
   "outputs": [
    {
     "name": "stdout",
     "output_type": "stream",
     "text": [
      "{'gamma': 3, 'max_depth': 6, 'min_child_weight': 1.392918508283413, 'n_estimators': 11, 'num_boost_round': 114, 'reg_alpha': 0.07833114170487387, 'reg_lambda': 0.09867149140295799}\n"
     ]
    }
   ],
   "source": [
    "#Converting the max_depth and n_estimator values from float to int\n",
    "\n",
    "params['gamma']= int(params['gamma'])\n",
    "params['max_depth']= int(params['max_depth'])\n",
    "params['n_estimators']= int(params['n_estimators'])\n",
    "params['num_boost_round']= int(params['num_boost_round'])\n",
    "\n",
    "print(params)\n",
    "\n",
    "# #Initialize an XGBClassifier with the tuned parameters and fit the training data\n",
    "# from xgboost import XGBClassifier\n",
    "# classifier2 = XGBClassifier(**params).fit(text_tfidf, clean_data_train['author'])\n",
    "\n",
    "# #predicting for training set\n",
    "# train_p2 = classifier2.predict(text_tfidf)\n",
    "\n",
    "# #Looking at the classification report\n",
    "# print(classification_report(train_p2, clean_data_train['author']))"
   ]
  },
  {
   "cell_type": "code",
   "execution_count": null,
   "id": "43aa405e",
   "metadata": {},
   "outputs": [],
   "source": []
  }
 ],
 "metadata": {
  "kernelspec": {
   "display_name": "Python 3",
   "language": "python",
   "name": "python3"
  },
  "language_info": {
   "codemirror_mode": {
    "name": "ipython",
    "version": 3
   },
   "file_extension": ".py",
   "mimetype": "text/x-python",
   "name": "python",
   "nbconvert_exporter": "python",
   "pygments_lexer": "ipython3",
   "version": "3.6.13"
  }
 },
 "nbformat": 4,
 "nbformat_minor": 5
}
