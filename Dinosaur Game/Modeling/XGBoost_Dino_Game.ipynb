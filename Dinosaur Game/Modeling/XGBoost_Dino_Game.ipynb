{
 "cells": [
  {
   "cell_type": "code",
   "execution_count": 1,
   "id": "3aaa85b9",
   "metadata": {},
   "outputs": [],
   "source": [
    "import random\n",
    "import pickle\n",
    "import numpy as np\n",
    "import pandas as pd\n",
    "import matplotlib.pyplot as plt\n",
    "import seaborn as sns\n",
    "import os\n",
    "from sklearn.model_selection import train_test_split\n",
    "from sklearn.linear_model import LogisticRegression\n",
    "from sklearn.metrics import confusion_matrix, classification_report, accuracy_score\n",
    "from pathlib import Path\n",
    "from keras.utils.np_utils import to_categorical\n",
    "from typing import List\n",
    "import cv2 as cv\n",
    "# Using SMOTE for the over sampling portion.\n",
    "from imblearn.over_sampling import SMOTE\n",
    "import time\n",
    "%matplotlib inline"
   ]
  },
  {
   "cell_type": "code",
   "execution_count": 2,
   "id": "6c946605",
   "metadata": {},
   "outputs": [
    {
     "name": "stdout",
     "output_type": "stream",
     "text": [
      "Length Command Keys Shape:  (15673,)\n",
      "Length Screenshot Shape:  (15673, 129600)\n",
      "Screenshot Shape:  (129600,)\n",
      "(array([-1, 38, 40]), array([12109,  1523,  2041], dtype=int64))\n"
     ]
    }
   ],
   "source": [
    "target_address = os.path.join(Path(os.getcwd()).parent,'Window_capture\\\\Data\\\\command_keys.npy')\n",
    "# screenshot_address = os.path.join(Path(os.getcwd()).parent,'Window_capture\\\\Data\\\\screenshots.npy')\n",
    "screenshot_address = os.path.join(Path(os.getcwd()).parent,'Window_capture\\\\Data\\\\screenshots.npy')\n",
    "\n",
    "labels = np.load(target_address)\n",
    "images = np.load(screenshot_address, allow_pickle = True)\n",
    "\n",
    "\n",
    "print(\"Length Command Keys Shape: \",labels.shape)\n",
    "print(\"Length Screenshot Shape: \",images.shape)\n",
    "print(\"Screenshot Shape: \",images[0].shape)\n",
    "print(np.unique(labels, return_counts = True))"
   ]
  },
  {
   "cell_type": "code",
   "execution_count": null,
   "id": "fc0bc983",
   "metadata": {},
   "outputs": [],
   "source": [
    "# res_list = [i for i, value in enumerate(labels) if value == -1] # Let's get rid of some -1 values.\n",
    "# idx = np.random.choice(res_list, 9000, replace=False) # Randomly choose X number of entries to be deleted specified as -1\n",
    "# images = pd.DataFrame(images) # flatten images then converted to dataframe for easier removal of idx\n",
    "# images = np.array(images.drop(images.index[idx])) # flatten images then converted to dataframe for easier removal of idx\n",
    "# labels = np.delete(labels, idx)\n",
    "# print(images.shape, labels.shape)\n",
    "# print(np.unique(labels, return_counts = True))"
   ]
  },
  {
   "cell_type": "code",
   "execution_count": null,
   "id": "9e4a0e03",
   "metadata": {},
   "outputs": [],
   "source": [
    "# Undersample using Tomek Links\n",
    "# from imblearn.under_sampling import TomekLinks\n",
    "# tl = TomekLinks()\n",
    "# images, labels = tl.fit_resample(images, labels)"
   ]
  },
  {
   "cell_type": "code",
   "execution_count": 3,
   "id": "d1446e6e",
   "metadata": {},
   "outputs": [],
   "source": [
    "from imblearn.over_sampling import SMOTE\n",
    "smote = SMOTE(random_state = 101)\n",
    "images, labels = smote.fit_resample(images, labels)"
   ]
  },
  {
   "cell_type": "code",
   "execution_count": 4,
   "id": "0ba3a000",
   "metadata": {},
   "outputs": [
    {
     "data": {
      "text/plain": [
       "(array([-1, 38, 40]), array([12109, 12109, 12109], dtype=int64))"
      ]
     },
     "execution_count": 4,
     "metadata": {},
     "output_type": "execute_result"
    }
   ],
   "source": [
    "np.unique(labels, return_counts = True)"
   ]
  },
  {
   "cell_type": "code",
   "execution_count": 5,
   "id": "3fa82b81",
   "metadata": {},
   "outputs": [],
   "source": [
    "# Cast -1 to 0, 38 to 1 and 40 to 2\n",
    "labels[labels == -1] = 0\n",
    "labels[labels == 38] = 1\n",
    "labels[labels == 40] = 2"
   ]
  },
  {
   "cell_type": "code",
   "execution_count": 6,
   "id": "3723bedb",
   "metadata": {},
   "outputs": [],
   "source": [
    "X_train, X_test, y_train, y_test = train_test_split(images, labels, test_size = 0.25)"
   ]
  },
  {
   "cell_type": "code",
   "execution_count": 7,
   "id": "3f7358c0",
   "metadata": {},
   "outputs": [
    {
     "data": {
      "text/plain": [
       "(array([0, 1, 2]), array([9115, 9076, 9054], dtype=int64))"
      ]
     },
     "execution_count": 7,
     "metadata": {},
     "output_type": "execute_result"
    }
   ],
   "source": [
    "np.unique(y_train, return_counts = True)"
   ]
  },
  {
   "cell_type": "code",
   "execution_count": 8,
   "id": "ad29afd0",
   "metadata": {},
   "outputs": [],
   "source": [
    "# from xgboost import XGBClassifier\n",
    "import xgboost as xgb\n",
    "from sklearn.metrics import accuracy_score"
   ]
  },
  {
   "cell_type": "code",
   "execution_count": 9,
   "id": "4b5db2e2",
   "metadata": {},
   "outputs": [],
   "source": [
    "dtrain = xgb.DMatrix(X_train, label=y_train)\n",
    "dtest  = xgb.DMatrix(X_test, label=y_test)"
   ]
  },
  {
   "cell_type": "code",
   "execution_count": 10,
   "id": "76ad14ca",
   "metadata": {},
   "outputs": [
    {
     "name": "stdout",
     "output_type": "stream",
     "text": [
      "[13:13:36] WARNING: C:/Users/Administrator/workspace/xgboost-win64_release_1.5.0/src/learner.cc:1115: Starting in XGBoost 1.3.0, the default evaluation metric used with the objective 'multi:softmax' was changed from 'merror' to 'mlogloss'. Explicitly set eval_metric if you'd like to restore the old behavior.\n",
      "[0]\teval-mlogloss:0.83101\ttrain-mlogloss:0.83198\n",
      "[1]\teval-mlogloss:0.67115\ttrain-mlogloss:0.67138\n",
      "[2]\teval-mlogloss:0.55730\ttrain-mlogloss:0.55737\n",
      "[3]\teval-mlogloss:0.47466\ttrain-mlogloss:0.47356\n",
      "[4]\teval-mlogloss:0.41648\ttrain-mlogloss:0.41445\n",
      "[5]\teval-mlogloss:0.36969\ttrain-mlogloss:0.36649\n",
      "[6]\teval-mlogloss:0.33054\ttrain-mlogloss:0.32680\n",
      "[7]\teval-mlogloss:0.30137\ttrain-mlogloss:0.29608\n",
      "[8]\teval-mlogloss:0.27882\ttrain-mlogloss:0.27214\n",
      "[9]\teval-mlogloss:0.25657\ttrain-mlogloss:0.24836\n",
      "[10]\teval-mlogloss:0.23672\ttrain-mlogloss:0.22716\n",
      "[11]\teval-mlogloss:0.22169\ttrain-mlogloss:0.21121\n",
      "[12]\teval-mlogloss:0.20816\ttrain-mlogloss:0.19602\n",
      "[13]\teval-mlogloss:0.19635\ttrain-mlogloss:0.18336\n",
      "[14]\teval-mlogloss:0.18536\ttrain-mlogloss:0.17058\n",
      "[15]\teval-mlogloss:0.17552\ttrain-mlogloss:0.16018\n",
      "[16]\teval-mlogloss:0.16732\ttrain-mlogloss:0.15020\n",
      "[17]\teval-mlogloss:0.15968\ttrain-mlogloss:0.14130\n",
      "[18]\teval-mlogloss:0.15297\ttrain-mlogloss:0.13372\n",
      "[19]\teval-mlogloss:0.14682\ttrain-mlogloss:0.12674\n",
      "[20]\teval-mlogloss:0.14193\ttrain-mlogloss:0.12069\n",
      "[21]\teval-mlogloss:0.13715\ttrain-mlogloss:0.11510\n",
      "[22]\teval-mlogloss:0.13253\ttrain-mlogloss:0.10977\n",
      "[23]\teval-mlogloss:0.12865\ttrain-mlogloss:0.10542\n",
      "[24]\teval-mlogloss:0.12497\ttrain-mlogloss:0.10111\n",
      "[25]\teval-mlogloss:0.12197\ttrain-mlogloss:0.09718\n",
      "[26]\teval-mlogloss:0.11947\ttrain-mlogloss:0.09422\n",
      "[27]\teval-mlogloss:0.11656\ttrain-mlogloss:0.09063\n",
      "[28]\teval-mlogloss:0.11423\ttrain-mlogloss:0.08737\n",
      "[29]\teval-mlogloss:0.11224\ttrain-mlogloss:0.08464\n",
      "[30]\teval-mlogloss:0.11017\ttrain-mlogloss:0.08180\n",
      "[31]\teval-mlogloss:0.10817\ttrain-mlogloss:0.07907\n",
      "[32]\teval-mlogloss:0.10612\ttrain-mlogloss:0.07638\n",
      "[33]\teval-mlogloss:0.10486\ttrain-mlogloss:0.07464\n",
      "[34]\teval-mlogloss:0.10292\ttrain-mlogloss:0.07212\n",
      "[35]\teval-mlogloss:0.10166\ttrain-mlogloss:0.07036\n",
      "[36]\teval-mlogloss:0.10010\ttrain-mlogloss:0.06822\n",
      "[37]\teval-mlogloss:0.09915\ttrain-mlogloss:0.06698\n",
      "[38]\teval-mlogloss:0.09822\ttrain-mlogloss:0.06537\n",
      "[39]\teval-mlogloss:0.09684\ttrain-mlogloss:0.06355\n",
      "[40]\teval-mlogloss:0.09588\ttrain-mlogloss:0.06188\n",
      "[41]\teval-mlogloss:0.09513\ttrain-mlogloss:0.06053\n",
      "[42]\teval-mlogloss:0.09390\ttrain-mlogloss:0.05883\n",
      "[43]\teval-mlogloss:0.09309\ttrain-mlogloss:0.05780\n",
      "[44]\teval-mlogloss:0.09258\ttrain-mlogloss:0.05681\n",
      "[45]\teval-mlogloss:0.09199\ttrain-mlogloss:0.05580\n",
      "[46]\teval-mlogloss:0.09125\ttrain-mlogloss:0.05489\n",
      "[47]\teval-mlogloss:0.09071\ttrain-mlogloss:0.05372\n",
      "[48]\teval-mlogloss:0.09036\ttrain-mlogloss:0.05264\n",
      "[49]\teval-mlogloss:0.09003\ttrain-mlogloss:0.05183\n",
      "XGBoost (no wrapper) Time: 3803.63333940506s\n"
     ]
    }
   ],
   "source": [
    "# Convert the data to DMatrix for xgboost\n",
    "\n",
    "# Loop through multiple thread numbers for xgboost\n",
    "start_time = time.time()\n",
    "n_estimators = 50\n",
    "param = {\n",
    "          'max_depth' : 6,\n",
    "                'eta' : 0.3,\n",
    "           'objective':'multi:softmax',\n",
    "           'num_class': 3,\n",
    "        }\n",
    "\n",
    "bst = xgb.train(param,\n",
    "                dtrain,\n",
    "                n_estimators,\n",
    "                [(dtest, 'eval'), (dtrain, 'train')] )\n",
    "print(\"XGBoost (no wrapper) Time: {}s\".format(time.time() - start_time))"
   ]
  },
  {
   "cell_type": "code",
   "execution_count": 11,
   "id": "47472146",
   "metadata": {},
   "outputs": [
    {
     "name": "stdout",
     "output_type": "stream",
     "text": [
      "Acc: 0.964325038537767\n",
      "Prediction time --- 3808.9451112747192 seconds ---\n"
     ]
    }
   ],
   "source": [
    "preds = np.round(bst.predict(dtest) )\n",
    "acc = 1. - (np.abs(preds - y_test).sum() / y_test.shape[0])\n",
    "print(\"Acc: {}\".format(acc))\n",
    "print(\"Prediction time --- %s seconds ---\" % (time.time() - start_time))"
   ]
  },
  {
   "cell_type": "code",
   "execution_count": 12,
   "id": "8bf9a63a",
   "metadata": {},
   "outputs": [
    {
     "name": "stdout",
     "output_type": "stream",
     "text": [
      "LogReg accuracy on held-out frames = 0.9683\n"
     ]
    }
   ],
   "source": [
    "# make predictions for test data\n",
    "y_hat = bst.predict(dtest)\n",
    "print(f'LogReg accuracy on held-out frames = {round(accuracy_score(y_test, y_hat),4)}')"
   ]
  },
  {
   "cell_type": "code",
   "execution_count": 13,
   "id": "2c197852",
   "metadata": {},
   "outputs": [
    {
     "name": "stdout",
     "output_type": "stream",
     "text": [
      "              precision    recall  f1-score   support\n",
      "\n",
      "     nothing       0.95      0.96      0.95      2994\n",
      "          up       0.97      0.95      0.96      3033\n",
      "        down       0.99      1.00      0.99      3055\n",
      "\n",
      "    accuracy                           0.97      9082\n",
      "   macro avg       0.97      0.97      0.97      9082\n",
      "weighted avg       0.97      0.97      0.97      9082\n",
      "\n"
     ]
    }
   ],
   "source": [
    "confusion_matrix(y_test, y_hat, labels=[0, 1, 2])\n",
    "target_names = ['nothing', 'up', 'down']\n",
    "print(classification_report(y_test, y_hat, target_names=target_names))"
   ]
  },
  {
   "cell_type": "code",
   "execution_count": 14,
   "id": "577cebde",
   "metadata": {},
   "outputs": [],
   "source": [
    "pickle.dump(bst, open('Existing_Models/xgboost_dino_SMOTE.pkl', 'wb'))"
   ]
  },
  {
   "cell_type": "code",
   "execution_count": null,
   "id": "7ee0f4ee",
   "metadata": {},
   "outputs": [],
   "source": []
  },
  {
   "cell_type": "code",
   "execution_count": null,
   "id": "dc9be50b",
   "metadata": {},
   "outputs": [],
   "source": []
  },
  {
   "cell_type": "code",
   "execution_count": null,
   "id": "c86e8c68",
   "metadata": {},
   "outputs": [],
   "source": []
  }
 ],
 "metadata": {
  "kernelspec": {
   "display_name": "Python 3",
   "language": "python",
   "name": "python3"
  },
  "language_info": {
   "codemirror_mode": {
    "name": "ipython",
    "version": 3
   },
   "file_extension": ".py",
   "mimetype": "text/x-python",
   "name": "python",
   "nbconvert_exporter": "python",
   "pygments_lexer": "ipython3",
   "version": "3.6.13"
  }
 },
 "nbformat": 4,
 "nbformat_minor": 5
}
