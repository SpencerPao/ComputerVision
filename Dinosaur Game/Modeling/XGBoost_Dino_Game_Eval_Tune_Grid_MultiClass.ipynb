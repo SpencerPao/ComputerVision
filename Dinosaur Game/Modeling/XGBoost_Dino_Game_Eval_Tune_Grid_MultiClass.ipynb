{
 "cells": [
  {
   "cell_type": "code",
   "execution_count": 1,
   "id": "3aaa85b9",
   "metadata": {},
   "outputs": [],
   "source": [
    "import random\n",
    "import pickle\n",
    "import numpy as np\n",
    "import pandas as pd\n",
    "import matplotlib.pyplot as plt\n",
    "import seaborn as sns\n",
    "import os\n",
    "from sklearn.model_selection import train_test_split\n",
    "from sklearn.linear_model import LogisticRegression\n",
    "from sklearn.metrics import confusion_matrix, classification_report, accuracy_score\n",
    "from pathlib import Path\n",
    "from keras.utils.np_utils import to_categorical\n",
    "from typing import List\n",
    "import cv2 as cv\n",
    "# Using SMOTE for the over sampling portion.\n",
    "from imblearn.over_sampling import SMOTE\n",
    "import time\n",
    "%matplotlib inline"
   ]
  },
  {
   "cell_type": "code",
   "execution_count": 2,
   "id": "fafe408c",
   "metadata": {},
   "outputs": [],
   "source": [
    "model_address = os.path.join(Path(os.getcwd()).parent,'Modeling\\\\Existing_Models\\\\xgboost_dino_tuned.pkl')"
   ]
  },
  {
   "cell_type": "code",
   "execution_count": 3,
   "id": "9104bf06",
   "metadata": {},
   "outputs": [
    {
     "name": "stdout",
     "output_type": "stream",
     "text": [
      "{'objective': 'multi:softprob', 'base_score': 0.5, 'booster': 'gbtree', 'colsample_bylevel': 1, 'colsample_bynode': 1, 'colsample_bytree': 0.7, 'gamma': 0, 'gpu_id': -1, 'interaction_constraints': '', 'learning_rate': 0.1, 'max_delta_step': 0, 'max_depth': 7, 'min_child_weight': 3, 'monotone_constraints': '()', 'n_jobs': 16, 'num_parallel_tree': 1, 'predictor': 'auto', 'random_state': 0, 'reg_alpha': 0, 'reg_lambda': 1, 'scale_pos_weight': None, 'subsample': 0.8, 'tree_method': 'exact', 'validate_parameters': 1, 'verbosity': None, 'eval_metric': 'mlogloss'}\n"
     ]
    }
   ],
   "source": [
    "model = pickle.load(open(model_address, 'rb'))  # horrible.\n",
    "print(model.get_xgb_params())"
   ]
  },
  {
   "cell_type": "code",
   "execution_count": 4,
   "id": "6c946605",
   "metadata": {},
   "outputs": [
    {
     "name": "stdout",
     "output_type": "stream",
     "text": [
      "Length Command Keys Shape:  (15673,)\n",
      "Length Screenshot Shape:  (15673, 129600)\n",
      "Screenshot Shape:  (129600,)\n",
      "(array([-1, 38, 40]), array([12109,  1523,  2041], dtype=int64))\n"
     ]
    }
   ],
   "source": [
    "target_address = os.path.join(Path(os.getcwd()).parent,'Window_capture\\\\Data\\\\command_keys.npy')\n",
    "screenshot_address = os.path.join(Path(os.getcwd()).parent,'Window_capture\\\\Data\\\\screenshots.npy')\n",
    "\n",
    "labels = np.load(target_address)\n",
    "images = np.load(screenshot_address, allow_pickle = True)\n",
    "\n",
    "\n",
    "print(\"Length Command Keys Shape: \",labels.shape)\n",
    "print(\"Length Screenshot Shape: \",images.shape)\n",
    "print(\"Screenshot Shape: \",images[0].shape)\n",
    "print(np.unique(labels, return_counts = True))"
   ]
  },
  {
   "cell_type": "code",
   "execution_count": 5,
   "id": "fc0bc983",
   "metadata": {},
   "outputs": [],
   "source": [
    "# res_list = [i for i, value in enumerate(labels) if value == -1] # Let's get rid of some -1 values.\n",
    "# idx = np.random.choice(res_list, 9000, replace=False) # Randomly choose X number of entries to be deleted specified as -1\n",
    "# images = pd.DataFrame(images) # flatten images then converted to dataframe for easier removal of idx\n",
    "# images = np.array(images.drop(images.index[idx])) # flatten images then converted to dataframe for easier removal of idx\n",
    "# labels = np.delete(labels, idx)\n",
    "# print(images.shape, labels.shape)\n",
    "# print(np.unique(labels, return_counts = True))"
   ]
  },
  {
   "cell_type": "code",
   "execution_count": 6,
   "id": "9e4a0e03",
   "metadata": {},
   "outputs": [],
   "source": [
    "# Undersample using Tomek Links\n",
    "# from imblearn.under_sampling import TomekLinks\n",
    "# tl = TomekLinks()\n",
    "# images, labels = tl.fit_resample(images, labels)"
   ]
  },
  {
   "cell_type": "code",
   "execution_count": 7,
   "id": "d1446e6e",
   "metadata": {},
   "outputs": [],
   "source": [
    "from imblearn.over_sampling import SMOTE\n",
    "smote = SMOTE(random_state = 101)\n",
    "images, labels = smote.fit_resample(images, labels)"
   ]
  },
  {
   "cell_type": "code",
   "execution_count": 8,
   "id": "0ba3a000",
   "metadata": {},
   "outputs": [
    {
     "data": {
      "text/plain": [
       "(array([-1, 38, 40]), array([12109, 12109, 12109], dtype=int64))"
      ]
     },
     "execution_count": 8,
     "metadata": {},
     "output_type": "execute_result"
    }
   ],
   "source": [
    "np.unique(labels, return_counts = True)"
   ]
  },
  {
   "cell_type": "code",
   "execution_count": 9,
   "id": "3fa82b81",
   "metadata": {},
   "outputs": [],
   "source": [
    "# Cast -1 to 0, 38 to 1 and 40 to 2\n",
    "labels[labels == -1] = 0\n",
    "labels[labels == 38] = 1\n",
    "labels[labels == 40] = 2"
   ]
  },
  {
   "cell_type": "code",
   "execution_count": 10,
   "id": "3723bedb",
   "metadata": {},
   "outputs": [],
   "source": [
    "X_train, X_test, y_train, y_test = train_test_split(images, labels, test_size = 0.25)"
   ]
  },
  {
   "cell_type": "code",
   "execution_count": 11,
   "id": "3f7358c0",
   "metadata": {},
   "outputs": [
    {
     "data": {
      "text/plain": [
       "(array([0, 1, 2]), array([9069, 9085, 9091], dtype=int64))"
      ]
     },
     "execution_count": 11,
     "metadata": {},
     "output_type": "execute_result"
    }
   ],
   "source": [
    "np.unique(y_train, return_counts = True)"
   ]
  },
  {
   "cell_type": "code",
   "execution_count": 12,
   "id": "ad29afd0",
   "metadata": {},
   "outputs": [],
   "source": [
    "# from xgboost import XGBClassifier\n",
    "import xgboost as xgb\n",
    "from sklearn.metrics import accuracy_score"
   ]
  },
  {
   "cell_type": "code",
   "execution_count": 13,
   "id": "4b5db2e2",
   "metadata": {},
   "outputs": [],
   "source": [
    "dtrain = xgb.DMatrix(X_train, label=y_train)\n",
    "dtest  = xgb.DMatrix(X_test, label=y_test)"
   ]
  },
  {
   "cell_type": "code",
   "execution_count": 15,
   "id": "76ad14ca",
   "metadata": {},
   "outputs": [
    {
     "name": "stdout",
     "output_type": "stream",
     "text": [
      "[07:59:37] WARNING: C:/Users/Administrator/workspace/xgboost-win64_release_1.5.0/src/learner.cc:1115: Starting in XGBoost 1.3.0, the default evaluation metric used with the objective 'multi:softmax' was changed from 'merror' to 'mlogloss'. Explicitly set eval_metric if you'd like to restore the old behavior.\n",
      "[0]\teval-mlogloss:0.99900\ttrain-mlogloss:0.99819\n",
      "[1]\teval-mlogloss:0.91509\ttrain-mlogloss:0.91352\n",
      "[2]\teval-mlogloss:0.84313\ttrain-mlogloss:0.84081\n",
      "[3]\teval-mlogloss:0.78056\ttrain-mlogloss:0.77753\n",
      "[4]\teval-mlogloss:0.72615\ttrain-mlogloss:0.72258\n",
      "[5]\teval-mlogloss:0.67665\ttrain-mlogloss:0.67254\n",
      "[6]\teval-mlogloss:0.63298\ttrain-mlogloss:0.62804\n",
      "[7]\teval-mlogloss:0.59374\ttrain-mlogloss:0.58788\n",
      "[8]\teval-mlogloss:0.55829\ttrain-mlogloss:0.55175\n",
      "[9]\teval-mlogloss:0.52669\ttrain-mlogloss:0.51942\n",
      "[10]\teval-mlogloss:0.49880\ttrain-mlogloss:0.49068\n",
      "[11]\teval-mlogloss:0.47292\ttrain-mlogloss:0.46453\n",
      "[12]\teval-mlogloss:0.44991\ttrain-mlogloss:0.44098\n",
      "[13]\teval-mlogloss:0.42849\ttrain-mlogloss:0.41880\n",
      "[14]\teval-mlogloss:0.40880\ttrain-mlogloss:0.39892\n",
      "[15]\teval-mlogloss:0.39009\ttrain-mlogloss:0.37992\n",
      "[16]\teval-mlogloss:0.37342\ttrain-mlogloss:0.36263\n",
      "[17]\teval-mlogloss:0.35764\ttrain-mlogloss:0.34635\n",
      "[18]\teval-mlogloss:0.34336\ttrain-mlogloss:0.33186\n",
      "[19]\teval-mlogloss:0.33048\ttrain-mlogloss:0.31842\n",
      "[20]\teval-mlogloss:0.31849\ttrain-mlogloss:0.30600\n",
      "[21]\teval-mlogloss:0.30721\ttrain-mlogloss:0.29434\n",
      "[22]\teval-mlogloss:0.29640\ttrain-mlogloss:0.28301\n",
      "[23]\teval-mlogloss:0.28621\ttrain-mlogloss:0.27231\n",
      "[24]\teval-mlogloss:0.27727\ttrain-mlogloss:0.26318\n",
      "[25]\teval-mlogloss:0.26854\ttrain-mlogloss:0.25439\n",
      "[26]\teval-mlogloss:0.26062\ttrain-mlogloss:0.24617\n",
      "[27]\teval-mlogloss:0.25249\ttrain-mlogloss:0.23764\n",
      "[28]\teval-mlogloss:0.24528\ttrain-mlogloss:0.23004\n",
      "[29]\teval-mlogloss:0.23848\ttrain-mlogloss:0.22292\n",
      "[30]\teval-mlogloss:0.23223\ttrain-mlogloss:0.21626\n",
      "[31]\teval-mlogloss:0.22590\ttrain-mlogloss:0.20952\n",
      "[32]\teval-mlogloss:0.21992\ttrain-mlogloss:0.20320\n",
      "[33]\teval-mlogloss:0.21449\ttrain-mlogloss:0.19740\n",
      "[34]\teval-mlogloss:0.20909\ttrain-mlogloss:0.19174\n",
      "[35]\teval-mlogloss:0.20440\ttrain-mlogloss:0.18680\n",
      "[36]\teval-mlogloss:0.19950\ttrain-mlogloss:0.18128\n",
      "[37]\teval-mlogloss:0.19504\ttrain-mlogloss:0.17635\n",
      "[38]\teval-mlogloss:0.19114\ttrain-mlogloss:0.17215\n",
      "[39]\teval-mlogloss:0.18725\ttrain-mlogloss:0.16793\n",
      "[40]\teval-mlogloss:0.18284\ttrain-mlogloss:0.16330\n",
      "[41]\teval-mlogloss:0.17955\ttrain-mlogloss:0.15957\n",
      "[42]\teval-mlogloss:0.17581\ttrain-mlogloss:0.15543\n",
      "[43]\teval-mlogloss:0.17239\ttrain-mlogloss:0.15173\n",
      "[44]\teval-mlogloss:0.16934\ttrain-mlogloss:0.14824\n",
      "[45]\teval-mlogloss:0.16665\ttrain-mlogloss:0.14514\n",
      "[46]\teval-mlogloss:0.16386\ttrain-mlogloss:0.14193\n",
      "[47]\teval-mlogloss:0.16128\ttrain-mlogloss:0.13896\n",
      "[48]\teval-mlogloss:0.15864\ttrain-mlogloss:0.13594\n",
      "[49]\teval-mlogloss:0.15644\ttrain-mlogloss:0.13334\n",
      "[50]\teval-mlogloss:0.15384\ttrain-mlogloss:0.13054\n",
      "[51]\teval-mlogloss:0.15128\ttrain-mlogloss:0.12767\n",
      "[52]\teval-mlogloss:0.14904\ttrain-mlogloss:0.12507\n",
      "[53]\teval-mlogloss:0.14663\ttrain-mlogloss:0.12258\n",
      "[54]\teval-mlogloss:0.14438\ttrain-mlogloss:0.12010\n",
      "[55]\teval-mlogloss:0.14229\ttrain-mlogloss:0.11780\n",
      "[56]\teval-mlogloss:0.14040\ttrain-mlogloss:0.11573\n",
      "[57]\teval-mlogloss:0.13851\ttrain-mlogloss:0.11360\n",
      "[58]\teval-mlogloss:0.13686\ttrain-mlogloss:0.11170\n",
      "[59]\teval-mlogloss:0.13518\ttrain-mlogloss:0.10965\n",
      "[60]\teval-mlogloss:0.13341\ttrain-mlogloss:0.10773\n",
      "[61]\teval-mlogloss:0.13179\ttrain-mlogloss:0.10589\n",
      "[62]\teval-mlogloss:0.13005\ttrain-mlogloss:0.10393\n",
      "[63]\teval-mlogloss:0.12847\ttrain-mlogloss:0.10207\n",
      "[64]\teval-mlogloss:0.12711\ttrain-mlogloss:0.10060\n",
      "[65]\teval-mlogloss:0.12564\ttrain-mlogloss:0.09891\n",
      "[66]\teval-mlogloss:0.12431\ttrain-mlogloss:0.09744\n",
      "[67]\teval-mlogloss:0.12312\ttrain-mlogloss:0.09616\n",
      "[68]\teval-mlogloss:0.12199\ttrain-mlogloss:0.09481\n",
      "[69]\teval-mlogloss:0.12084\ttrain-mlogloss:0.09348\n",
      "[70]\teval-mlogloss:0.11956\ttrain-mlogloss:0.09199\n",
      "[71]\teval-mlogloss:0.11837\ttrain-mlogloss:0.09062\n",
      "[72]\teval-mlogloss:0.11730\ttrain-mlogloss:0.08939\n",
      "[73]\teval-mlogloss:0.11616\ttrain-mlogloss:0.08800\n",
      "[74]\teval-mlogloss:0.11519\ttrain-mlogloss:0.08687\n",
      "[75]\teval-mlogloss:0.11408\ttrain-mlogloss:0.08556\n",
      "[76]\teval-mlogloss:0.11318\ttrain-mlogloss:0.08451\n",
      "[77]\teval-mlogloss:0.11245\ttrain-mlogloss:0.08348\n",
      "[78]\teval-mlogloss:0.11169\ttrain-mlogloss:0.08234\n",
      "[79]\teval-mlogloss:0.11088\ttrain-mlogloss:0.08131\n",
      "[80]\teval-mlogloss:0.11002\ttrain-mlogloss:0.08025\n",
      "[81]\teval-mlogloss:0.10931\ttrain-mlogloss:0.07939\n",
      "[82]\teval-mlogloss:0.10852\ttrain-mlogloss:0.07845\n",
      "[83]\teval-mlogloss:0.10777\ttrain-mlogloss:0.07750\n",
      "[84]\teval-mlogloss:0.10714\ttrain-mlogloss:0.07663\n",
      "[85]\teval-mlogloss:0.10642\ttrain-mlogloss:0.07566\n",
      "[86]\teval-mlogloss:0.10564\ttrain-mlogloss:0.07463\n",
      "[87]\teval-mlogloss:0.10494\ttrain-mlogloss:0.07373\n",
      "[88]\teval-mlogloss:0.10431\ttrain-mlogloss:0.07295\n",
      "[89]\teval-mlogloss:0.10358\ttrain-mlogloss:0.07204\n",
      "[90]\teval-mlogloss:0.10295\ttrain-mlogloss:0.07127\n",
      "[91]\teval-mlogloss:0.10245\ttrain-mlogloss:0.07050\n",
      "[92]\teval-mlogloss:0.10190\ttrain-mlogloss:0.06976\n",
      "[93]\teval-mlogloss:0.10132\ttrain-mlogloss:0.06898\n",
      "[94]\teval-mlogloss:0.10078\ttrain-mlogloss:0.06821\n",
      "[95]\teval-mlogloss:0.10032\ttrain-mlogloss:0.06757\n",
      "[96]\teval-mlogloss:0.09981\ttrain-mlogloss:0.06684\n",
      "[97]\teval-mlogloss:0.09950\ttrain-mlogloss:0.06633\n",
      "[98]\teval-mlogloss:0.09913\ttrain-mlogloss:0.06573\n",
      "[99]\teval-mlogloss:0.09857\ttrain-mlogloss:0.06502\n",
      "XGBoost (no wrapper) Time: 7207.096472263336s\n"
     ]
    }
   ],
   "source": [
    "# Convert the data to DMatrix for xgboost\n",
    "\n",
    "# Loop through multiple thread numbers for xgboost\n",
    "start_time = time.time()\n",
    "n_estimators = 100\n",
    "param = {\n",
    "          'max_depth' : 7,\n",
    "                'eta' : 0.1,\n",
    "    'min_child_weight': 3,\n",
    "    'colsample_bytree': 0.7,\n",
    "            'subsample': 0.8,\n",
    "           'objective':'multi:softmax',\n",
    "           'num_class': 3,\n",
    "        }\n",
    "\n",
    "bst = xgb.train(param,\n",
    "                dtrain,\n",
    "                n_estimators,\n",
    "                [(dtest, 'eval'), (dtrain, 'train')],\n",
    "               early_stopping_rounds = 50)\n",
    "print(\"XGBoost (no wrapper) Time: {}s\".format(time.time() - start_time))"
   ]
  },
  {
   "cell_type": "code",
   "execution_count": 16,
   "id": "47472146",
   "metadata": {},
   "outputs": [
    {
     "name": "stdout",
     "output_type": "stream",
     "text": [
      "Acc: 0.9627835278573001\n",
      "Prediction time --- 7208.550240516663 seconds ---\n"
     ]
    }
   ],
   "source": [
    "preds = np.round(bst.predict(dtest) )\n",
    "acc = 1. - (np.abs(preds - y_test).sum() / y_test.shape[0])\n",
    "print(\"Acc: {}\".format(acc))\n",
    "print(\"Prediction time --- %s seconds ---\" % (time.time() - start_time))"
   ]
  },
  {
   "cell_type": "code",
   "execution_count": 17,
   "id": "8bf9a63a",
   "metadata": {},
   "outputs": [
    {
     "name": "stdout",
     "output_type": "stream",
     "text": [
      "LogReg accuracy on held-out frames = 0.9676\n"
     ]
    }
   ],
   "source": [
    "# make predictions for test data\n",
    "y_hat = bst.predict(dtest)\n",
    "print(f'LogReg accuracy on held-out frames = {round(accuracy_score(y_test, y_hat),4)}')"
   ]
  },
  {
   "cell_type": "code",
   "execution_count": 18,
   "id": "2c197852",
   "metadata": {},
   "outputs": [
    {
     "name": "stdout",
     "output_type": "stream",
     "text": [
      "              precision    recall  f1-score   support\n",
      "\n",
      "     nothing       0.95      0.95      0.95      3040\n",
      "          up       0.96      0.95      0.96      3024\n",
      "        down       0.99      1.00      0.99      3018\n",
      "\n",
      "    accuracy                           0.97      9082\n",
      "   macro avg       0.97      0.97      0.97      9082\n",
      "weighted avg       0.97      0.97      0.97      9082\n",
      "\n"
     ]
    }
   ],
   "source": [
    "confusion_matrix(y_test, y_hat, labels=[0, 1, 2])\n",
    "target_names = ['nothing', 'up', 'down']\n",
    "print(classification_report(y_test, y_hat, target_names=target_names))"
   ]
  },
  {
   "cell_type": "code",
   "execution_count": 19,
   "id": "577cebde",
   "metadata": {},
   "outputs": [],
   "source": [
    "pickle.dump(bst, open('Existing_Models/xgboost_dino_tuned_2.pkl', 'wb'))"
   ]
  },
  {
   "cell_type": "code",
   "execution_count": null,
   "id": "7ee0f4ee",
   "metadata": {},
   "outputs": [],
   "source": []
  },
  {
   "cell_type": "code",
   "execution_count": null,
   "id": "dc9be50b",
   "metadata": {},
   "outputs": [],
   "source": []
  },
  {
   "cell_type": "code",
   "execution_count": null,
   "id": "c86e8c68",
   "metadata": {},
   "outputs": [],
   "source": []
  }
 ],
 "metadata": {
  "kernelspec": {
   "display_name": "Python 3",
   "language": "python",
   "name": "python3"
  },
  "language_info": {
   "codemirror_mode": {
    "name": "ipython",
    "version": 3
   },
   "file_extension": ".py",
   "mimetype": "text/x-python",
   "name": "python",
   "nbconvert_exporter": "python",
   "pygments_lexer": "ipython3",
   "version": "3.6.13"
  }
 },
 "nbformat": 4,
 "nbformat_minor": 5
}
