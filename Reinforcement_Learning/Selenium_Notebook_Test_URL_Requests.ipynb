{
 "cells": [
  {
   "cell_type": "markdown",
   "id": "1fbc5057",
   "metadata": {},
   "source": [
    "# Chrome Dino Game Reinforcement Learning Infrastructure\n",
    "- Check out the following [github](https://luungoc2005.github.io/blog/2020-06-15-chrome-dino-game-reinforcement-learning/) where I obtained much of the code from (selenium).\n",
    "- Testing out multiple split screen for getting data inputs (dinosaur frames)"
   ]
  },
  {
   "cell_type": "code",
   "execution_count": 6,
   "id": "6f146f49",
   "metadata": {},
   "outputs": [],
   "source": [
    "import os\n",
    "import time\n",
    "import gym\n",
    "from gym import spaces\n",
    "\n",
    "from selenium import webdriver # get webdriver.\n",
    "from selenium.webdriver.common.keys import Keys # Keyboard actions\n",
    "from selenium.common.exceptions import WebDriverException\n",
    "from selenium.webdriver.common.by import By\n",
    "from selenium.webdriver.chrome.service import Service"
   ]
  },
  {
   "cell_type": "code",
   "execution_count": 2,
   "id": "edf667f8",
   "metadata": {},
   "outputs": [],
   "source": [
    "_chrome_options = webdriver.ChromeOptions()\n",
    "_chrome_options.add_argument(\"--mute-audio\") # Cause we don't want to hear the 100 milestone and jump actions\n",
    "_chrome_options.add_argument(\"--disable-gpu\")\n",
    "_chrome_options.add_experimental_option('excludeSwitches', ['enable-logging'])\n",
    "\n",
    "serv_obj = Service(\"chrome_driver/chromedriver\") # File name to chrome driver.\n",
    "\n",
    "_driver = webdriver.Chrome(\n",
    "    service= serv_obj,\n",
    "    options=_chrome_options\n",
    ")\n",
    "\n",
    "# Wait for everything to load.\n",
    "time.sleep(2)\n",
    "\n",
    "try:\n",
    "    _driver.get('chrome://dino')\n",
    "except WebDriverException:\n",
    "    pass\n",
    "\n",
    "# Start Game\n",
    "_driver.find_element(By.TAG_NAME,\"body\").send_keys(Keys.SPACE) # one space to start game."
   ]
  },
  {
   "cell_type": "markdown",
   "id": "2a650ee3",
   "metadata": {},
   "source": [
    "# Creating the Environment"
   ]
  },
  {
   "cell_type": "markdown",
   "id": "60b43a3f-ebd2-4f1a-80c5-c83a3223c933",
   "metadata": {},
   "source": [
    "Here, we create a gym environment for our agent/models to train in (Capture basic actions)"
   ]
  },
  {
   "cell_type": "code",
   "execution_count": 8,
   "id": "1cb32980",
   "metadata": {},
   "outputs": [],
   "source": [
    "class CustomEnv(gym.Env):\n",
    "    \"\"\"A class to control the custom environment for our agents. \"\"\"\n",
    "    \n",
    "    def __init__(self, action_space_size=3):\n",
    "        # These can be anything from the spaces module -- dig in later.\n",
    "        self.action_space = spaces.Discrete(action_space_size)\n",
    "        self.observation_space = spaces.Box()\n",
    "        \n",
    "    def step(self, action):\n",
    "        \"\"\" return observation, reward, done, extra_info \"\"\"\n",
    "        pass\n",
    "    \n",
    "    def render(self, mode='human'):\n",
    "        \"\"\" return image array \"\"\"\n",
    "        pass\n",
    "    \n",
    "    def reset(self):\n",
    "        \"\"\" Reset the environment.\"\"\"\n",
    "        pass\n",
    "    \n",
    "    def close(self):\n",
    "        pass"
   ]
  },
  {
   "cell_type": "code",
   "execution_count": null,
   "id": "07949f14",
   "metadata": {},
   "outputs": [],
   "source": []
  }
 ],
 "metadata": {
  "kernelspec": {
   "display_name": "Python 3 (ipykernel)",
   "language": "python",
   "name": "python3"
  },
  "language_info": {
   "codemirror_mode": {
    "name": "ipython",
    "version": 3
   },
   "file_extension": ".py",
   "mimetype": "text/x-python",
   "name": "python",
   "nbconvert_exporter": "python",
   "pygments_lexer": "ipython3",
   "version": "3.8.5"
  }
 },
 "nbformat": 4,
 "nbformat_minor": 5
}
