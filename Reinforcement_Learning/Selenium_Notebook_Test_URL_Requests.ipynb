{
 "cells": [
  {
   "cell_type": "markdown",
   "id": "1fbc5057",
   "metadata": {},
   "source": [
    "# Chrome Dino Game Reinforcement Learning Infrastructure\n",
    "- Check out the following [github](https://luungoc2005.github.io/blog/2020-06-15-chrome-dino-game-reinforcement-learning/) where I obtained much of the code from (selenium).\n",
    "- Testing out multiple split screen for getting data inputs (dinosaur frames)\n",
    "- Arvix paper [link](https://arxiv.org/ftp/arxiv/papers/2008/2008.06799.pdf)"
   ]
  },
  {
   "cell_type": "code",
   "execution_count": null,
   "id": "6f146f49",
   "metadata": {},
   "outputs": [],
   "source": [
    "import os\n",
    "import time\n",
    "import numpy as np\n",
    "\n",
    "import gym\n",
    "from gym import spaces\n",
    "\n",
    "from selenium import webdriver # get webdriver.\n",
    "from selenium.webdriver.common.keys import Keys # Keyboard actions\n",
    "from selenium.common.exceptions import WebDriverException\n",
    "from selenium.webdriver.common.by import By\n",
    "from selenium.webdriver.chrome.service import Service\n",
    "\n",
    "# from stable_baselines.common.vec_env import SubprocVecEnv"
   ]
  },
  {
   "cell_type": "markdown",
   "id": "91003ca5",
   "metadata": {},
   "source": [
    "# Test to see if browser access works..."
   ]
  },
  {
   "cell_type": "code",
   "execution_count": null,
   "id": "eb62ffe1-d95b-4971-917c-8c1f3a96d64a",
   "metadata": {},
   "outputs": [],
   "source": [
    "# Location of chrome driver.\n",
    "driver_path = \"chrome_driver/chromedriver\""
   ]
  },
  {
   "cell_type": "code",
   "execution_count": null,
   "id": "edf667f8",
   "metadata": {},
   "outputs": [],
   "source": [
    "'''Test on what the actions will look like to obtain the images from environment.'''\n",
    "_chrome_options = webdriver.ChromeOptions()\n",
    "_chrome_options.add_argument(\"--mute-audio\") # Cause we don't want to hear the 100 milestone and jump actions\n",
    "_chrome_options.add_argument(\"--disable-gpu\")\n",
    "_chrome_options.add_experimental_option('excludeSwitches', ['enable-logging'])\n",
    "\n",
    "serv_obj = Service(driver_path) # File name to chrome driver.\n",
    "\n",
    "_driver = webdriver.Chrome(\n",
    "    service= serv_obj,\n",
    "    options=_chrome_options\n",
    ")\n",
    "\n",
    "# Wait for everything to load.\n",
    "time.sleep(2)\n",
    "\n",
    "try:\n",
    "    _driver.get('chrome://dino')\n",
    "except WebDriverException:\n",
    "    pass\n",
    "\n",
    "# Start Game\n",
    "_driver.find_element(By.TAG_NAME,\"body\").send_keys(Keys.SPACE) # one space to start game."
   ]
  },
  {
   "cell_type": "markdown",
   "id": "2a650ee3",
   "metadata": {},
   "source": [
    "# Creating the Gym Environment\n",
    "- NOTE: The below code does not actually run. You'd have to run _chrome_dino_run.py_ instead\n",
    "- The WebInterface class should be able to run. You can initialize it, and a window will pop up.\n",
    "- [Setting up Gym Environment](https://www.novatec-gmbh.de/en/blog/creating-a-gym-environment/)"
   ]
  },
  {
   "cell_type": "code",
   "execution_count": null,
   "id": "266fc869",
   "metadata": {},
   "outputs": [],
   "source": [
    "class WebInterface:\n",
    "    def __init__(self,\n",
    "                 custom_config=True,\n",
    "                 game_url='chrome://dino',\n",
    "                 headless = False,\n",
    "                 chrome_driver_path = \"chrome_driver/chromedriver\"):\n",
    "        self.game_url = game_url\n",
    "        self._service = Service(chrome_driver_path)\n",
    "        _chrome_options = webdriver.ChromeOptions()\n",
    "        _chrome_options.add_argument(\"disable-infobars\")\n",
    "        _chrome_options.add_argument(\"--mute-audio\") # Cause we don't want to hear the 100 milestone and jump actions\n",
    "        _chrome_options.add_argument(\"--disable-gpu\") # required for windows OS- probably should comment out for any other OS\n",
    "        _chrome_options.add_experimental_option('excludeSwitches', ['enable-logging'])\n",
    "        \n",
    "        \n",
    "        if headless:\n",
    "            display = Display(visible=0, size=(1024, 768)) \n",
    "            display.start()\n",
    "\n",
    "        self._driver = webdriver.Chrome(service = self._service,\n",
    "                                        options = _chrome_options)\n",
    "#         self._driver.set_window_position(x=-10,y=0)\n",
    "        try:\n",
    "            self._driver.get('chrome://dino')\n",
    "        except WebDriverException:\n",
    "            pass # For some reason I get an exception?\n",
    "\n",
    "    # Start Game (manually)\n",
    "    # _driver.find_element(By.TAG_NAME,\"body\").send_keys(Keys.SPACE) # one space to start game.\n",
    "    #         self._driver.get(game_url)\n",
    "\n",
    "    def end(self):\n",
    "        self._driver.close()\n",
    "\n",
    "    def grab_screen(self):\n",
    "        image_b64 = self._driver.get_screenshot_as_base64()\n",
    "        screen = np.array(Image.open(BytesIO(base64.b64decode(image_b64))))\n",
    "        return screen[...,:3]\n",
    "\n",
    "    def press_up(self):\n",
    "        self._driver.find_element(By.TAG_NAME,\"body\").send_keys(Keys.ARROW_UP) # one space to start game.\n",
    "\n",
    "    def press_down(self):\n",
    "        self._driver.find_element(By.TAG_NAME,\"body\").send_keys(Keys.ARROW_DOWN) # one space to start game.\n",
    "\n",
    "    def press_space(self):\n",
    "        self._driver.find_element(By.TAG_NAME,\"body\").send_keys(Keys.SPACE) # one space to start game."
   ]
  },
  {
   "cell_type": "code",
   "execution_count": null,
   "id": "26779819",
   "metadata": {},
   "outputs": [],
   "source": [
    "test = WebInterface() # This does run -- check to see if class has been initialized correctly."
   ]
  },
  {
   "cell_type": "code",
   "execution_count": null,
   "id": "07949f14",
   "metadata": {},
   "outputs": [],
   "source": [
    "import gym\n",
    "from gym import error, spaces, utils\n",
    "from gym.utils import seeding\n",
    "\n",
    "class DinoRunEnv (gym.Env, WebInterface):\n",
    "    def __init__(self, *args, **kwargs):\n",
    "        gym.Env.__init__(self)\n",
    "        WebInterface.__init__(self, *args, game_url='chrome://dino', **kwargs)\n",
    "        self._driver.execute_script(\"Runner.config.ACCELERATION=0\")\n",
    "\n",
    "        init_script = \"document.getElementsByClassName('runner-canvas')[0].id = 'runner-canvas'\"\n",
    "        self._driver.execute_script(init_script)\n",
    "\n",
    "        self.action_dict = {0: lambda: None,\n",
    "                            1: self.press_up,\n",
    "                            2: self.press_down\n",
    "                           }\n",
    "\n",
    "        self.action_space = spaces.discrete.Discrete(3)\n",
    "        self.reward_range = (-1,0.1)\n",
    "\n",
    "\n",
    "    def reset(self):\n",
    "        '''Resets environment and returns initial observation.'''\n",
    "        self._driver.execute_script(\"Runner.instance_.restart()\")\n",
    "        self.step(1)\n",
    "        time.sleep(2)\n",
    "        return self.grab_screen()\n",
    "\n",
    "    def step(self, action):\n",
    "        ''' Runs one timestep of the game. \n",
    "            Retrusn next state, a reward, and a boolean\n",
    "        '''\n",
    "        assert action in self.action_space\n",
    "        self.action_dict[action]()\n",
    "        return self.get_info()        \n",
    "\n",
    "    def get_info(self):\n",
    "        screen =  self.grab_screen()\n",
    "        score = self.get_score()\n",
    "        done, reward = (True, -1) if self.get_crashed() else (False, 0.1)\n",
    "        return screen, reward, score, done\n",
    "\n",
    "    def get_score(self):\n",
    "        score_array = self._driver.execute_script(\"return Runner.instance_.distanceMeter.digits\")\n",
    "        score = ''.join(score_array)\n",
    "        return int(score)\n",
    "\n",
    "    def get_crashed(self):\n",
    "        return self._driver.execute_script(\"return Runner.instance_.crashed\")"
   ]
  },
  {
   "cell_type": "code",
   "execution_count": null,
   "id": "8eb95cae-d4b5-448e-86e8-a4620784b44d",
   "metadata": {},
   "outputs": [],
   "source": [
    "import gym\n",
    "import gym_dinorun\n",
    "\n",
    "gym.make(\"DinoRun-v0\")\n",
    "\n",
    "init_state = env.reset()\n",
    "state, reward, info, done = env.step(0)"
   ]
  },
  {
   "cell_type": "code",
   "execution_count": null,
   "id": "d923f5b6",
   "metadata": {},
   "outputs": [],
   "source": []
  }
 ],
 "metadata": {
  "kernelspec": {
   "display_name": "Python 3 (ipykernel)",
   "language": "python",
   "name": "python3"
  },
  "language_info": {
   "codemirror_mode": {
    "name": "ipython",
    "version": 3
   },
   "file_extension": ".py",
   "mimetype": "text/x-python",
   "name": "python",
   "nbconvert_exporter": "python",
   "pygments_lexer": "ipython3",
   "version": "3.8.5"
  }
 },
 "nbformat": 4,
 "nbformat_minor": 5
}
