{
 "cells": [
  {
   "cell_type": "markdown",
   "id": "8b0f2f3d",
   "metadata": {},
   "source": [
    "# <center> Optical Character Recognition </center>\n",
    "-----\n",
    "- How to make machines **read** text? :) \n",
    "- Purpose: Converting 2-Dimensional text data into text\n",
    "-----\n",
    "### Python-tesseract is a wrapper for Google's Tesseract-OCR Engine. \n",
    "- Standalone invocation script that can read all image types, including PNG, JPEG, gif, bmp, tiff, etc."
   ]
  },
  {
   "cell_type": "code",
   "execution_count": null,
   "id": "a42402b0",
   "metadata": {},
   "outputs": [],
   "source": [
    "!pip install pytesseract # This module helps convert images to text."
   ]
  },
  {
   "cell_type": "markdown",
   "id": "7f172a91",
   "metadata": {},
   "source": [
    "## THEN, you need to grab the downloadble from the following website: https://github.com/UB-Mannheim/tesseract/wiki\n",
    "- Link is in the description (YouTube)\n",
    "- tesseract-ocr-w64-setup-v5.0.0-alpha.20210811.exe (64 bit) resp. (As of 9/5/2021)"
   ]
  },
  {
   "cell_type": "markdown",
   "id": "c776acaf",
   "metadata": {},
   "source": [
    "# Run exe and store the exe into file path.\n",
    "![DownloadMessage](ExeDownload.png)"
   ]
  },
  {
   "cell_type": "code",
   "execution_count": 1,
   "id": "bdb00ddb",
   "metadata": {},
   "outputs": [],
   "source": [
    "import pytesseract\n",
    "pytesseract.pytesseract.tesseract_cmd=r'C:\\Program Files\\Tesseract-OCR\\tesseract.exe'\n",
    "# open source library for computer vision, machine learning, and image processing applications.\n",
    "# !pip install opencv-python"
   ]
  },
  {
   "cell_type": "code",
   "execution_count": 2,
   "id": "9a8fe4f6",
   "metadata": {},
   "outputs": [],
   "source": [
    "import cv2\n",
    "from PIL import Image\n",
    "from matplotlib import pyplot as plt\n",
    "import numpy as np\n",
    "import os"
   ]
  },
  {
   "cell_type": "code",
   "execution_count": 22,
   "id": "6729970d",
   "metadata": {},
   "outputs": [],
   "source": [
    "# image_name = 'Images/tax_ex.jpg'\n",
    "# image_name = 'Images/indonesian_passport_example.jpg'\n",
    "# image_name = 'Images/Stop_Sign.jpg'\n",
    "image_name = 'Images/Yield_Sign.jpg'"
   ]
  },
  {
   "cell_type": "code",
   "execution_count": 23,
   "id": "dd9e6773",
   "metadata": {},
   "outputs": [],
   "source": [
    "# Reading in sample image\n",
    "# sample_image\n",
    "image = cv2.imread(image_name)\n",
    "# If you want to resize image...\n",
    "# # image = cv2.resize(image, (500,500))"
   ]
  },
  {
   "cell_type": "code",
   "execution_count": 24,
   "id": "f21841aa",
   "metadata": {},
   "outputs": [
    {
     "name": "stdout",
     "output_type": "stream",
     "text": [
      " \n",
      "\f",
      "\n"
     ]
    }
   ],
   "source": [
    "cv2.imshow(\"Sample Image\", image)\n",
    "# Extraction of text from image\n",
    "text = pytesseract.image_to_string(image)\n",
    "print(text)\n",
    "cv2.waitKey(0)\n",
    "cv2.destroyAllWindows()"
   ]
  },
  {
   "cell_type": "markdown",
   "id": "3d974666",
   "metadata": {},
   "source": [
    "# Attempting with Gray scale to get all lettering?"
   ]
  },
  {
   "cell_type": "code",
   "execution_count": 25,
   "id": "b03e8132",
   "metadata": {},
   "outputs": [
    {
     "name": "stdout",
     "output_type": "stream",
     "text": [
      " \n",
      "\f",
      "\n"
     ]
    }
   ],
   "source": [
    "# Reading in sample image\n",
    "image = cv2.imread(image_name)\n",
    "image = cv2.cvtColor(image, cv2.COLOR_BGR2GRAY) # Gray scale\n",
    "cv2.imshow(\"Grey Scaled Image\", image)\n",
    "# Extraction of text from image\n",
    "text = pytesseract.image_to_string(image)\n",
    "print(text)\n",
    "cv2.waitKey(0)\n",
    "cv2.destroyAllWindows()"
   ]
  },
  {
   "cell_type": "markdown",
   "id": "4f20ca67",
   "metadata": {},
   "source": [
    "# Gain Division (Normalization)\n",
    "- Removes coloration from background and then weights each pixel\n",
    "- https://stackoverflow.com/questions/67386714/detecting-white-text-on-a-bright-background-with-tesseract"
   ]
  },
  {
   "cell_type": "code",
   "execution_count": 26,
   "id": "41fa48b6",
   "metadata": {},
   "outputs": [],
   "source": [
    "# Reading an image in default mode:\n",
    "image = cv2.imread(image_name)\n",
    "\n",
    "# Get local maximum:\n",
    "kernelSize = 5\n",
    "maxKernel = cv2.getStructuringElement(cv2.MORPH_RECT, (kernelSize, kernelSize))\n",
    "# processing ops. based on shapes\n",
    "localMax = cv2.morphologyEx(image, cv2.MORPH_CLOSE, maxKernel, None, None, 1, cv2.BORDER_REFLECT101) \n",
    "\n",
    "# Perform gain division\n",
    "gainDivision = np.where(localMax == 0, 0, (image/localMax))\n",
    "\n",
    "# Clip the values to [0,255]\n",
    "gainDivision = np.clip((255 * gainDivision), 0, 255)\n",
    "\n",
    "# Convert the mat type from float to uint8:\n",
    "gainDivision = gainDivision.astype(\"uint8\")"
   ]
  },
  {
   "cell_type": "code",
   "execution_count": 27,
   "id": "e073fed8",
   "metadata": {},
   "outputs": [
    {
     "name": "stdout",
     "output_type": "stream",
     "text": [
      " \n",
      "\n",
      " \n",
      "\f",
      "\n"
     ]
    }
   ],
   "source": [
    "cv2.imshow(\"White Background\", gainDivision) # (Already white background so not much happening here.)\n",
    "text = pytesseract.image_to_string(gainDivision)\n",
    "print(text)\n",
    "cv2.waitKey(0)\n",
    "cv2.destroyAllWindows()"
   ]
  },
  {
   "cell_type": "markdown",
   "id": "59c9c58b",
   "metadata": {},
   "source": [
    "# Otsu's Thresholding\n",
    "- http://www.labbookpages.co.uk/software/imgProc/otsuThreshold.html\n",
    "- \"Otsu's thresholding method involves iterating through all the possible threshold values and calculating a measure of spread for the pixel levels each side of the threshold, i.e. the pixels that either fall in foreground or background. The aim is to find the threshold value where the sum of foreground and background spreads is at its minimum.\"\n",
    "- Essentially, this is trying to minimize the variance amongst the pixels in the image, trying to obtain only the more important features"
   ]
  },
  {
   "cell_type": "code",
   "execution_count": 28,
   "id": "346f3a40",
   "metadata": {},
   "outputs": [],
   "source": [
    "# Convert RGB to grayscale:\n",
    "grayscaleImage = cv2.cvtColor(gainDivision, cv2.COLOR_BGR2GRAY)\n",
    "\n",
    "# Get binary image via Otsu:\n",
    "_, binaryImage = cv2.threshold(grayscaleImage, 0, 255, cv2.THRESH_BINARY_INV + cv2.THRESH_OTSU)"
   ]
  },
  {
   "cell_type": "code",
   "execution_count": 29,
   "id": "0c534184",
   "metadata": {},
   "outputs": [
    {
     "name": "stdout",
     "output_type": "stream",
     "text": [
      " \n",
      "\f",
      "\n"
     ]
    }
   ],
   "source": [
    "cv2.imshow(\"Otsu Thresholding\", binaryImage)\n",
    "text = pytesseract.image_to_string(binaryImage)\n",
    "print(text)\n",
    "cv2.waitKey(0)\n",
    "cv2.destroyAllWindows()"
   ]
  },
  {
   "cell_type": "markdown",
   "id": "ef002dc8",
   "metadata": {},
   "source": [
    "# Ensure closing of characters (for background color filling)"
   ]
  },
  {
   "cell_type": "code",
   "execution_count": 30,
   "id": "129a2c41",
   "metadata": {},
   "outputs": [],
   "source": [
    "# Set kernel (structuring element) size:\n",
    "kernelSize = 3\n",
    "# Set morph operation iterations:\n",
    "opIterations = 1\n",
    "\n",
    "# Get the structuring element:\n",
    "morphKernel = cv2.getStructuringElement(cv2.MORPH_RECT, (kernelSize, kernelSize))\n",
    "\n",
    "# Perform closing:\n",
    "binaryImage = cv2.morphologyEx( binaryImage, cv2.MORPH_CLOSE, morphKernel, None, None, opIterations, cv2.BORDER_REFLECT101 )"
   ]
  },
  {
   "cell_type": "code",
   "execution_count": 31,
   "id": "420b10fc",
   "metadata": {},
   "outputs": [
    {
     "name": "stdout",
     "output_type": "stream",
     "text": [
      " \n",
      "\f",
      "\n"
     ]
    }
   ],
   "source": [
    "cv2.imshow(\"Character filling\", binaryImage)\n",
    "text = pytesseract.image_to_string(binaryImage)\n",
    "print(text)\n",
    "cv2.waitKey(0)\n",
    "cv2.destroyAllWindows()"
   ]
  },
  {
   "cell_type": "markdown",
   "id": "7bb8c0f1",
   "metadata": {},
   "source": [
    "# Flood filling"
   ]
  },
  {
   "cell_type": "code",
   "execution_count": 20,
   "id": "2255fc57",
   "metadata": {},
   "outputs": [
    {
     "data": {
      "text/plain": [
       "(401431,\n",
       " array([[255, 255, 255, ..., 255, 255, 255],\n",
       "        [255, 255, 255, ..., 255, 255, 255],\n",
       "        [255, 255, 255, ..., 255, 255, 255],\n",
       "        ...,\n",
       "        [255, 255, 255, ..., 255, 255, 255],\n",
       "        [255, 255, 255, ..., 255, 255, 255],\n",
       "        [255, 255, 255, ..., 255, 255, 255]], dtype=uint8),\n",
       " None,\n",
       " (0, 0, 825, 550))"
      ]
     },
     "execution_count": 20,
     "metadata": {},
     "output_type": "execute_result"
    }
   ],
   "source": [
    "# Flood fill (white + black): -- > Tesseract works best with white background and black text.\n",
    "cv2.floodFill(binaryImage, mask=None, seedPoint=(int(0), int(0)), newVal=(255))"
   ]
  },
  {
   "cell_type": "code",
   "execution_count": 21,
   "id": "c6807f8f",
   "metadata": {},
   "outputs": [
    {
     "name": "stdout",
     "output_type": "stream",
     "text": [
      "ALLWAYe\n",
      "\f",
      "\n"
     ]
    }
   ],
   "source": [
    "cv2.imshow(\"Flood filling\", binaryImage)\n",
    "text = pytesseract.image_to_string(binaryImage) # Didn't work all the way.\n",
    "print(text)\n",
    "cv2.waitKey(0)\n",
    "cv2.destroyAllWindows()"
   ]
  },
  {
   "cell_type": "markdown",
   "id": "499e943d",
   "metadata": {},
   "source": [
    "# PDF Images\n",
    "- pip install pymupdf"
   ]
  },
  {
   "cell_type": "code",
   "execution_count": 32,
   "id": "84c98942",
   "metadata": {},
   "outputs": [],
   "source": [
    "import fitz\n",
    "pdffile = 'Images/Berkshire_hathaway_68.pdf'\n",
    "doc = fitz.open(pdffile)\n",
    "page = doc.loadPage(0)  # number of page\n",
    "pix = page.getPixmap()\n",
    "output_path = \"Images/Berkshire_hathaway_68.png\"\n",
    "pix.writePNG(output_path)"
   ]
  },
  {
   "cell_type": "code",
   "execution_count": 33,
   "id": "35f87842",
   "metadata": {},
   "outputs": [],
   "source": [
    "image = cv2.imread(output_path)"
   ]
  },
  {
   "cell_type": "code",
   "execution_count": 34,
   "id": "f464edf9",
   "metadata": {},
   "outputs": [
    {
     "name": "stdout",
     "output_type": "stream",
     "text": [
      "Managements Discusio\n",
      "\n",
      " \n",
      "\n",
      "nd Analysis (Continued)\n",
      "Manufacturing, Service and Realing\n",
      "\n",
      "|A summary of revenues and eamings of our manufacturing, service and retiling busineses follows (olay in\n",
      "rillion)\n",
      "\n",
      "     \n",
      "\n",
      "    \n",
      "\n",
      " \n",
      "\n",
      " \n",
      "\n",
      " \n",
      "\n",
      " \n",
      "\n",
      "Revenues\n",
      "Manufacturing S 59079 § 62.790 $ 61883 (38% 14%\n",
      "Service an retailing 75018 79985 78926 (62) 3\n",
      "Sisko Sunes Av 160) a\n",
      "Presta earnings *\n",
      "Manatictring S S10 $ 952 $ 9.365 (Is9M%\n",
      "Service and retailing 2879 2982 13\n",
      "10,889 Bw (119)\n",
      "Income tes and noncontoling interests 2589, 29a\n",
      "58300 59368\n",
      "stv income ta rte 233% 237% 74%\n",
      "Pretax earings as percentage of revenues E% 87% 8%\n",
      "\n",
      " \n",
      "\n",
      " \n",
      "\n",
      " \n",
      "\n",
      "+ Excludes certain acquisition accounting expenses, which primal related to the amortization of tdentifid angie\n",
      "‘assets recorded in conection wit owr business acquisitions. Te fter-tax acquisition accounting expenses excluded\n",
      "From earnings above sere 753 million in 2020, 3788 millon ts 2019 and $932 millon in 2018. In 2020, such\n",
      "‘expenses also exclude afertax good! and indeintetvedimangible asset impairment charges of $104 bln.\n",
      "These expenses are eluded in “Other” nthe summary of earnings on page K-33 and on the \"Other earnings section\n",
      "on page KS,\n",
      "\n",
      "Manufacturing\n",
      "\n",
      "‘Our manufictring group includes a variety’ of industrial building and consumer products businesses, A smmary of\n",
      "sevenues and pretax caning of our manufacturing operations follows (dollars in lions).\n",
      "\n",
      " \n",
      "\n",
      "erento caage\n",
      "\n",
      " \n",
      "\n",
      "   \n",
      "\n",
      "Revenses\n",
      "\n",
      "Indust pots s $sos9 5 369 sips (ay.\n",
      "\n",
      "Bung proves naz ikem “4s 8\n",
      "\n",
      "Consume rts lism str 30)\n",
      "Tso aw Caisse\n",
      "\n",
      "Pretax earings\n",
      "\n",
      "Indi procs S398 S sms 8 sam GMa GaM%\n",
      "\n",
      "Puig poets ase tee ase kaa\n",
      "\n",
      "Comet prs ir tas tae 36\n",
      "Sogo Sys $e\n",
      "\n",
      "Pr-tan earnings a percentage a revenues\n",
      "\n",
      "Indus predicts M4o% IRA 90%\n",
      "\n",
      "Buin roi ise hoe st\n",
      "\n",
      "Consume rts nse tose\n",
      "\n",
      " \n",
      "\n",
      "Kas\n",
      "\f",
      "\n"
     ]
    }
   ],
   "source": [
    "cv2.imshow(\"Sample PDF Image\", image)\n",
    "# Extraction of text from image\n",
    "text = pytesseract.image_to_string(image)\n",
    "print(text)\n",
    "cv2.waitKey(0)\n",
    "cv2.destroyAllWindows()"
   ]
  },
  {
   "cell_type": "code",
   "execution_count": 35,
   "id": "25ec870c",
   "metadata": {},
   "outputs": [],
   "source": [
    "image = Image.open(output_path)\n",
    "image = image.resize((1782,2322),Image.ANTIALIAS)\n",
    "image.save(fp=\"newimage_1.png\")"
   ]
  },
  {
   "cell_type": "code",
   "execution_count": 36,
   "id": "b1ddf227",
   "metadata": {},
   "outputs": [
    {
     "name": "stdout",
     "output_type": "stream",
     "text": [
      "Management’s Discussion and Analysis (Continued)\n",
      "Manufacturing, Service and Retailing\n",
      "\n",
      "A summary of revenues and eamings of our manufacturing, service and retailing businesses follows (dollars in\n",
      "millions).\n",
      "\n",
      " \n",
      "\n",
      " \n",
      "\n",
      " \n",
      "\n",
      " \n",
      "\n",
      " \n",
      "\n",
      " \n",
      "\n",
      " \n",
      "\n",
      " \n",
      "\n",
      " \n",
      "\n",
      "Percentage change\n",
      "2020 2019 2018 2020 vs 2019 2019 vs 2018\n",
      "Revenues\n",
      "Manufacturing $ 59,079 $ 62,730 $ 61,883 {5.89% 14%\n",
      "Service and retailing 75,018 79,945 78,926 {6.2) 13\n",
      "S$ 134.097 $ 142.675 $ 140,809 (6.0) 13\n",
      "—_—_——— Eee —_—_—_———_—\n",
      "Pre-tax earnings *\n",
      "Manufacturing $ 8010 $ 9522 $ 9,366 (15.99% 1.7%\n",
      "Service and retailing 2.879 2,843 2,942 1.3 (3.4)\n",
      "10,889 12,365 12,308 (11.9) 0.5\n",
      "Income taxes and noncontrolling interests 2,589 2,993 2,944\n",
      "S$ 8300 $ 9372 $ 9.364\n",
      "Effective income tax rate 23.3% 23.7% 23.4%\n",
      "Pretax earnings as a percentage of revenues 8.1% 8.7% 8.7%\n",
      "\n",
      " \n",
      "\n",
      ". Excludes certain acquisition accounting expenses, which primarily related to the amortization of identified intangible\n",
      "\n",
      "assets recorded in connection with our business acquisitions. The after-tax acquisition accounting expenses excluded\n",
      "from earnings above were $783 million in 2020, 3788 million in 2019 and $932 million in 2018. In 2020, such\n",
      "expenses also exclude after-tax goodwill and indefinite-lived intangible asset impairment charges of $10.4 billion.\n",
      "These expenses are included in “Other” in the summary of earnings on page K-33 and in the “Other” earnings section\n",
      "on page K-56,\n",
      "\n",
      "Manufacturing\n",
      "\n",
      "Our manufacturing group includes a varicty of industrial, building and consumer products businesses. A summary of\n",
      "revenues and pre-tax earnings of our manufacturing operations follows (dollars in millions).\n",
      "\n",
      "Percen ¢\n",
      "2020 2019 2018 2020 vs 2019 = 2019 vs 2018\n",
      "\n",
      "Revenues\n",
      "Industrial products $ 25,667 $ 30,594 $ 30,679 (16.1 )'% (0.3%\n",
      "Building products 21,244 20,327 18,677 4.5 8.8\n",
      "Consumer products 12,168 11,809 12,527 3.0 (5.7)\n",
      "\n",
      "$_59.079 $62,730 $_61,883\n",
      "Pretax earnings\n",
      "Industrial products $ 3,755 $ $635 $ 5,822 (33.4)% (3.2%\n",
      "Building products 2,858 2,636 2,336 8.4 12.8\n",
      "Consumer products 1,397 1,251 1,208 LL.7 3.6\n",
      "\n",
      "$__8.010 $ 9,522 $ 9.366\n",
      "Pre-tax earnings as a percentage of revenues\n",
      "Industrial products 14.6% 18.4% 19.0%\n",
      "Building products 13.8% 13.0% 12.5%\n",
      "Consumer products 11.5% 10.6% 9.6%\n",
      "\n",
      "K-48\n",
      "\f",
      "\n"
     ]
    }
   ],
   "source": [
    "image = cv2.imread('newimage_1.png')\n",
    "cv2.imshow(\"Sample PDF Image Resized\", image)\n",
    "# Extraction of text from image\n",
    "text = pytesseract.image_to_string(image)\n",
    "print(text)\n",
    "cv2.waitKey(0)\n",
    "cv2.destroyAllWindows()"
   ]
  }
 ],
 "metadata": {
  "kernelspec": {
   "display_name": "Python 3 (ipykernel)",
   "language": "python",
   "name": "python3"
  },
  "language_info": {
   "codemirror_mode": {
    "name": "ipython",
    "version": 3
   },
   "file_extension": ".py",
   "mimetype": "text/x-python",
   "name": "python",
   "nbconvert_exporter": "python",
   "pygments_lexer": "ipython3",
   "version": "3.8.11"
  }
 },
 "nbformat": 4,
 "nbformat_minor": 5
}
